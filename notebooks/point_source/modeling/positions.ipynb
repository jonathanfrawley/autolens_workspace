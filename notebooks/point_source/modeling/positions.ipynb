{
 "cells": [
  {
   "cell_type": "markdown",
   "metadata": {},
   "source": [
    "__Example: Point-Source Positions__\n",
    "\n",
    "To fit a lens model to positional constraints of a strong lens, we must perform lens modeling, which uses\n",
    "a `NonLinearSearch` to fit many different sets of multiple images to the dataset.\n",
    "\n",
    "In this example script, we fit the multiple-image `Positions` of a strong lens system where:\n",
    "\n",
    " - The lens galaxy's total mass distribution is modeled as an `EllipticalIsothermal`.\n",
    " - The source `Galaxy` is modeled as a `PointSource`."
   ]
  },
  {
   "cell_type": "code",
   "execution_count": null,
   "metadata": {
    "execution": {
     "iopub.execute_input": "2021-02-08T14:48:35.300150Z",
     "iopub.status.busy": "2021-02-08T14:48:35.299472Z",
     "iopub.status.idle": "2021-02-08T14:48:39.354452Z",
     "shell.execute_reply": "2021-02-08T14:48:39.354770Z"
    }
   },
   "outputs": [],
   "source": [
    "%matplotlib inline\n",
    "from pyprojroot import here\n",
    "workspace_path = str(here())\n",
    "%cd $workspace_path\n",
    "print(f\"Working Directory has been set to `{workspace_path}`\")\n",
    "\n",
    "from os import path\n",
    "import autofit as af\n",
    "import autolens as al\n",
    "import autolens.plot as aplt"
   ]
  },
  {
   "cell_type": "markdown",
   "metadata": {},
   "source": [
    "Load the strong lens dataset `mass_sie__source_point`, which is the dataset we will use to perform lens modeling.\n",
    "\n",
    "We begin by loading an image of the dataset. Although we are performing point-source modeling and will not use this\n",
    "data in the model-fit, it is useful to load it for visualization. By passing this dataset to the model-fit at the\n",
    "end of the script it will be used when visualizing the results. However, the use of an image in this way is entirely\n",
    "optional, and if it were not included in the model-fit visualization would simple be performed using grids without\n",
    "the image."
   ]
  },
  {
   "cell_type": "code",
   "execution_count": null,
   "metadata": {
    "execution": {
     "iopub.execute_input": "2021-02-08T14:48:39.358233Z",
     "iopub.status.busy": "2021-02-08T14:48:39.357833Z",
     "iopub.status.idle": "2021-02-08T14:48:39.470808Z",
     "shell.execute_reply": "2021-02-08T14:48:39.471098Z"
    }
   },
   "outputs": [],
   "source": [
    "dataset_name = \"mass_sie__source_point\"\n",
    "dataset_path = path.join(\"dataset\", \"point_source\", dataset_name)\n",
    "\n",
    "image = al.Array2D.from_fits(\n",
    "    file_path=path.join(dataset_path, \"image.fits\"), pixel_scales=0.05\n",
    ")"
   ]
  },
  {
   "cell_type": "markdown",
   "metadata": {},
   "source": [
    "We now load the positions we will fit using point source modeling. We load them as a `Grid2DIrregular` data \n",
    "structure, which groups different sets of positions to a common source. This is used, for example, when there are \n",
    "multiple source galaxy's in the source plane. For this simple example, we assume there is just one source and just one \n",
    "group."
   ]
  },
  {
   "cell_type": "code",
   "execution_count": null,
   "metadata": {
    "execution": {
     "iopub.execute_input": "2021-02-08T14:48:39.473799Z",
     "iopub.status.busy": "2021-02-08T14:48:39.473440Z",
     "iopub.status.idle": "2021-02-08T14:48:39.476210Z",
     "shell.execute_reply": "2021-02-08T14:48:39.475892Z"
    }
   },
   "outputs": [],
   "source": [
    "positions = al.Grid2DIrregular.from_json(\n",
    "    file_path=path.join(dataset_path, \"positions.json\")\n",
    ")\n",
    "\n",
    "print(positions.in_list)"
   ]
  },
  {
   "cell_type": "markdown",
   "metadata": {},
   "source": [
    "We can now plot our positions dataset over the observed image."
   ]
  },
  {
   "cell_type": "code",
   "execution_count": null,
   "metadata": {
    "execution": {
     "iopub.execute_input": "2021-02-08T14:48:39.479397Z",
     "iopub.status.busy": "2021-02-08T14:48:39.479059Z",
     "iopub.status.idle": "2021-02-08T14:48:39.707408Z",
     "shell.execute_reply": "2021-02-08T14:48:39.707098Z"
    }
   },
   "outputs": [],
   "source": [
    "visuals_2d = aplt.Visuals2D(positions=positions)\n",
    "\n",
    "array_plotter = aplt.Array2DPlotter(array=image, visuals_2d=visuals_2d)\n",
    "array_plotter.figure()"
   ]
  },
  {
   "cell_type": "markdown",
   "metadata": {},
   "source": [
    "We can also just plot the positions, omitting the image."
   ]
  },
  {
   "cell_type": "code",
   "execution_count": null,
   "metadata": {
    "execution": {
     "iopub.execute_input": "2021-02-08T14:48:39.727505Z",
     "iopub.status.busy": "2021-02-08T14:48:39.714005Z",
     "iopub.status.idle": "2021-02-08T14:48:39.799798Z",
     "shell.execute_reply": "2021-02-08T14:48:39.800171Z"
    }
   },
   "outputs": [],
   "source": [
    "grid_plotter = aplt.Grid2DPlotter(grid=positions)\n",
    "grid_plotter.figure()"
   ]
  },
  {
   "cell_type": "markdown",
   "metadata": {},
   "source": [
    "For point-source modeling, we also need the noise of every measured position. This is simply the pixel-scale of our\n",
    "observed dataset, which in this case is 0.05\".\n",
    "\n",
    "The `position_noise_map` should have the same structure as the `Grid2DIrregular`. In this example, the positions\n",
    "are a single group of 4 (y,x) coordinates, therefore their noise map should be a single group of 4 floats. We can\n",
    "make this noise-map by creating a `ValuesIrregular` structure from the `Grid2DIrregular`."
   ]
  },
  {
   "cell_type": "code",
   "execution_count": null,
   "metadata": {
    "execution": {
     "iopub.execute_input": "2021-02-08T14:48:39.803315Z",
     "iopub.status.busy": "2021-02-08T14:48:39.802942Z",
     "iopub.status.idle": "2021-02-08T14:48:39.805003Z",
     "shell.execute_reply": "2021-02-08T14:48:39.805268Z"
    }
   },
   "outputs": [],
   "source": [
    "positions_noise_map = positions.values_from_value(value=image.pixel_scale)\n",
    "\n",
    "print(positions_noise_map)"
   ]
  },
  {
   "cell_type": "markdown",
   "metadata": {},
   "source": [
    "__Phase__\n",
    "\n",
    "To perform lens modeling, we create a `PhasePointSource` object, which comprises:\n",
    "\n",
    "   - The `GalaxyModel`'s used to fit the data.\n",
    "   - The `SettingsPhase` which customize how the model is fitted to the data.\n",
    "   - The `NonLinearSearch` used to sample parameter space.\n",
    "\n",
    "Once we have create the phase, we `run` it by passing it the data and mask.\n",
    "\n",
    "__Model__\n",
    "\n",
    "We compose our lens model using `GalaxyModel` objects, which represent the galaxies we fit to our data. In this \n",
    "example our lens mooel is:\n",
    "\n",
    " - An `EllipticalIsothermal` `MassProfile`.for the lens galaxy's mass (5 parameters).\n",
    " - A `PointSource` for the source galaxy's emission (2 parameters).\n",
    "\n",
    "The number of free parameters and therefore the dimensionality of non-linear parameter space is N=7.\n",
    "\n",
    "NOTE: By default, **PyAutoLens** assumes the image has been reduced such that the lens galaxy centre is at (0.0\", 0.0\"),\n",
    "with the priors on the lens `MassProfile` coordinates set accordingly. if for your dataset the lens is not centred at \n",
    "(0.0\", 0.0\"), we recommend you reduce your data so it is (see `autolens_workspace/notebooks/preprocess`).  Alternatively, you \n",
    "can manually override the priors (see `autolens_workspace/notebooks/modeling/customize/priors.py`)."
   ]
  },
  {
   "cell_type": "code",
   "execution_count": null,
   "metadata": {
    "execution": {
     "iopub.execute_input": "2021-02-08T14:48:39.808272Z",
     "iopub.status.busy": "2021-02-08T14:48:39.807894Z",
     "iopub.status.idle": "2021-02-08T14:48:39.905185Z",
     "shell.execute_reply": "2021-02-08T14:48:39.904801Z"
    }
   },
   "outputs": [],
   "source": [
    "lens = al.GalaxyModel(redshift=0.5, mass=al.mp.EllipticalIsothermal)\n",
    "source = al.GalaxyModel(redshift=1.0, point=al.ps.PointSource)"
   ]
  },
  {
   "cell_type": "markdown",
   "metadata": {},
   "source": [
    "__Settings__\n",
    "\n",
    "Next, we specify the `SettingsPhaseImaging`, which describe how the model is fitted to the data in the log likelihood\n",
    "function. Below, we specify:\n",
    "\n",
    " N/A"
   ]
  },
  {
   "cell_type": "code",
   "execution_count": null,
   "metadata": {
    "execution": {
     "iopub.execute_input": "2021-02-08T14:48:39.908367Z",
     "iopub.status.busy": "2021-02-08T14:48:39.907941Z",
     "iopub.status.idle": "2021-02-08T14:48:39.910075Z",
     "shell.execute_reply": "2021-02-08T14:48:39.909698Z"
    }
   },
   "outputs": [],
   "source": [
    "settings = al.SettingsPhaseImaging()\n"
   ]
  },
  {
   "cell_type": "markdown",
   "metadata": {},
   "source": [
    "__PositionsSolver__\n",
    "\n",
    "For point-source modeling we also need to define our `PositionsSolver`. This object determines the multiple-images of \n",
    "a mass model for a point source at location (y,x) in the source plane, by iteratively ray-tracing light rays to the \n",
    "source-plane. \n",
    "\n",
    "Checkout the script ? for a complete description of this object, we will use the default `PositionSolver` in this \n",
    "exampl"
   ]
  },
  {
   "cell_type": "code",
   "execution_count": null,
   "metadata": {
    "execution": {
     "iopub.execute_input": "2021-02-08T14:48:39.913464Z",
     "iopub.status.busy": "2021-02-08T14:48:39.912987Z",
     "iopub.status.idle": "2021-02-08T14:48:39.915203Z",
     "shell.execute_reply": "2021-02-08T14:48:39.915559Z"
    }
   },
   "outputs": [],
   "source": [
    "grid = al.Grid2D.uniform(\n",
    "    shape_native=image.shape_native, pixel_scales=image.pixel_scales\n",
    ")\n",
    "\n",
    "positions_solver = al.PositionsSolver(grid=grid, pixel_scale_precision=0.02)"
   ]
  },
  {
   "cell_type": "markdown",
   "metadata": {},
   "source": [
    "__Search__\n",
    "\n",
    "The lens model is fitted to the data using a `NonLinearSearch`, which we specify below. In this example, we use the\n",
    "nested sampling algorithm Dynesty (https://dynesty.readthedocs.io/en/latest/), with:\n",
    "\n",
    " - 50 live points.\n",
    "\n",
    "The script `autolens_workspace/notebooks/modeling/customize/non_linear_searches.py` gives a description of the types of\n",
    "non-linear searches that can be used with **PyAutoLens**. If you do not know what a `NonLinearSearch` is or how it \n",
    "operates, I recommend you complete chapters 1 and 2 of the HowToLens lecture series.\n",
    "\n",
    "The `name` and `path_prefix` below specify the path where results ae stored in the output folder:  \n",
    "\n",
    " `/autolens_workspace/output/point_source/mass_sie__source_sersic/phase_mass[sie]_source[bulge]`."
   ]
  },
  {
   "cell_type": "code",
   "execution_count": null,
   "metadata": {
    "execution": {
     "iopub.execute_input": "2021-02-08T14:48:39.919503Z",
     "iopub.status.busy": "2021-02-08T14:48:39.919071Z",
     "iopub.status.idle": "2021-02-08T14:48:39.920966Z",
     "shell.execute_reply": "2021-02-08T14:48:39.921391Z"
    }
   },
   "outputs": [],
   "source": [
    "search = af.DynestyStatic(\n",
    "    path_prefix=path.join(\"point_source\", dataset_name),\n",
    "    name=\"phase_mass[sie]_source[point]\",\n",
    "    n_live_points=50,\n",
    ")"
   ]
  },
  {
   "cell_type": "markdown",
   "metadata": {},
   "source": [
    "__Phase__\n",
    "\n",
    "We can now combine the model, settings, search and positions_solver to create and run a phase, which fits the data with \n",
    "the lens model."
   ]
  },
  {
   "cell_type": "code",
   "execution_count": null,
   "metadata": {
    "execution": {
     "iopub.execute_input": "2021-02-08T14:48:39.925237Z",
     "iopub.status.busy": "2021-02-08T14:48:39.924826Z",
     "iopub.status.idle": "2021-02-08T14:48:39.926497Z",
     "shell.execute_reply": "2021-02-08T14:48:39.926808Z"
    }
   },
   "outputs": [],
   "source": [
    "phase = al.PhasePointSource(\n",
    "    search=search,\n",
    "    galaxies=af.CollectionPriorModel(lens=lens, source=source),\n",
    "    settings=settings,\n",
    "    positions_solver=positions_solver,\n",
    ")"
   ]
  },
  {
   "cell_type": "markdown",
   "metadata": {},
   "source": [
    "We can now begin the fit by passing the positions data and noise_map to the phase, which will use \n",
    "the search to fit the model to the data. \n",
    "\n",
    "The fit outputs visualization on-the-fly, so checkout the path \n",
    "`autolens_workspace/output/examples/phase_mass[sie]_source[point]` to see how your fit is doing!"
   ]
  },
  {
   "cell_type": "code",
   "execution_count": null,
   "metadata": {
    "execution": {
     "iopub.execute_input": "2021-02-08T14:48:39.931565Z",
     "iopub.status.busy": "2021-02-08T14:48:39.931119Z",
     "iopub.status.idle": "2021-02-08T14:48:40.019929Z",
     "shell.execute_reply": "2021-02-08T14:48:40.019567Z"
    }
   },
   "outputs": [],
   "source": [
    "result = phase.run(positions=positions, positions_noise_map=positions_noise_map)"
   ]
  },
  {
   "cell_type": "markdown",
   "metadata": {},
   "source": [
    "The phase above returned a result, which, for example, includes the lens model corresponding to the maximum\n",
    "log likelihood solution in parameter space."
   ]
  },
  {
   "cell_type": "code",
   "execution_count": null,
   "metadata": {
    "execution": {
     "iopub.execute_input": "2021-02-08T14:48:40.023127Z",
     "iopub.status.busy": "2021-02-08T14:48:40.022724Z",
     "iopub.status.idle": "2021-02-08T14:48:40.025303Z",
     "shell.execute_reply": "2021-02-08T14:48:40.025619Z"
    }
   },
   "outputs": [],
   "source": [
    "print(result.max_log_likelihood_instance)"
   ]
  },
  {
   "cell_type": "markdown",
   "metadata": {},
   "source": [
    "Checkout `autolens_workspace/notebooks/modeling/results.py` for a full description of the result object."
   ]
  }
 ],
 "metadata": {
  "anaconda-cloud": {},
  "kernelspec": {
   "display_name": "Python 3",
   "language": "python",
   "name": "python3"
  },
  "language_info": {
   "codemirror_mode": {
    "name": "ipython",
    "version": 3
   },
   "file_extension": ".py",
   "mimetype": "text/x-python",
   "name": "python",
   "nbconvert_exporter": "python",
   "pygments_lexer": "ipython3",
   "version": "3.8.5"
  }
 },
 "nbformat": 4,
 "nbformat_minor": 4
}
