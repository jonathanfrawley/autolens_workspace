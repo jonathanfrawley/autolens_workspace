{
 "cells": [
  {
   "cell_type": "markdown",
   "metadata": {},
   "source": [
    "Simulator: Point Source\n",
    "=======================\n",
    "\n",
    "This script simulates `Positions` data of a strong lens where:\n",
    "\n",
    " - The lens galaxy's total mass distribution is an `EllipticalIsothermal`.\n",
    " - The source `Galaxy` is a `PointSource`."
   ]
  },
  {
   "cell_type": "code",
   "execution_count": 1,
   "metadata": {
    "execution": {
     "iopub.execute_input": "2021-02-08T14:48:03.913086Z",
     "iopub.status.busy": "2021-02-08T14:48:03.912583Z",
     "iopub.status.idle": "2021-02-08T14:48:07.459286Z",
     "shell.execute_reply": "2021-02-08T14:48:07.458819Z"
    }
   },
   "outputs": [
    {
     "name": "stdout",
     "output_type": "stream",
     "text": [
      "/mnt/c/Users/Jammy/Code/PyAuto/autolens_workspace\n",
      "Working Directory has been set to `/mnt/c/Users/Jammy/Code/PyAuto/autolens_workspace`\n"
     ]
    }
   ],
   "source": [
    "%matplotlib inline\n",
    "from pyprojroot import here\n",
    "workspace_path = str(here())\n",
    "%cd $workspace_path\n",
    "print(f\"Working Directory has been set to `{workspace_path}`\")\n",
    "\n",
    "from os import path\n",
    "import numpy as np\n",
    "import autolens as al\n",
    "import autolens.plot as aplt"
   ]
  },
  {
   "cell_type": "markdown",
   "metadata": {},
   "source": [
    "The `dataset_type` describes the type of data being simulated (in this case, `Positions` data) and `dataset_name` \n",
    "gives it a descriptive name. They define the folder the dataset is output to on your hard-disk:\n",
    "\n",
    " - The image will be output to `/autolens_workspace/dataset/dataset_type/dataset_label/dataset_name/positions.json`.\n",
    " - The noise-map will be output to `/autolens_workspace/dataset/dataset_type/dataset_label/dataset_name/noise_map.json`."
   ]
  },
  {
   "cell_type": "code",
   "execution_count": 2,
   "metadata": {
    "execution": {
     "iopub.execute_input": "2021-02-08T14:48:07.462050Z",
     "iopub.status.busy": "2021-02-08T14:48:07.461691Z",
     "iopub.status.idle": "2021-02-08T14:48:07.463335Z",
     "shell.execute_reply": "2021-02-08T14:48:07.463614Z"
    }
   },
   "outputs": [],
   "source": [
    "dataset_type = \"point_source\"\n",
    "dataset_name = \"mass_sie__source_point\""
   ]
  },
  {
   "cell_type": "markdown",
   "metadata": {},
   "source": [
    "The path where the dataset will be output, which in this case is:\n",
    "`/autolens_workspace/dataset/positions/mass_sie__source_point`"
   ]
  },
  {
   "cell_type": "code",
   "execution_count": 3,
   "metadata": {
    "execution": {
     "iopub.execute_input": "2021-02-08T14:48:07.466382Z",
     "iopub.status.busy": "2021-02-08T14:48:07.466013Z",
     "iopub.status.idle": "2021-02-08T14:48:07.468292Z",
     "shell.execute_reply": "2021-02-08T14:48:07.468563Z"
    }
   },
   "outputs": [],
   "source": [
    "dataset_path = path.join(\"dataset\", dataset_type, dataset_name)"
   ]
  },
  {
   "cell_type": "markdown",
   "metadata": {},
   "source": [
    "Setup the lens galaxy's mass (SIE+Shear) and source galaxy `PointSource` for this simulated lens. We include a \n",
    "faint dist in the source for purely visualization purposes to show where the multiple images appear.\n",
    "\n",
    "For lens modeling, defining ellipticity in terms of the `elliptical_comps` improves the model-fitting procedure.\n",
    "\n",
    "However, for simulating a strong lens you may find it more intuitive to define the elliptical geometry using the \n",
    "axis-ratio of the profile (axis_ratio = semi-major axis / semi-minor axis = b/a) and position angle phi, where phi is\n",
    "in degrees and defined counter clockwise from the positive x-axis.\n",
    "\n",
    "We can use the **PyAutoLens** `convert` module to determine the elliptical components from the axis-ratio and phi."
   ]
  },
  {
   "cell_type": "code",
   "execution_count": 4,
   "metadata": {
    "execution": {
     "iopub.execute_input": "2021-02-08T14:48:07.472370Z",
     "iopub.status.busy": "2021-02-08T14:48:07.472010Z",
     "iopub.status.idle": "2021-02-08T14:48:07.473577Z",
     "shell.execute_reply": "2021-02-08T14:48:07.473865Z"
    }
   },
   "outputs": [],
   "source": [
    "lens_galaxy = al.Galaxy(\n",
    "    redshift=0.5,\n",
    "    mass=al.mp.EllipticalIsothermal(\n",
    "        centre=(0.0, 0.0),\n",
    "        einstein_radius=1.6,\n",
    "        elliptical_comps=al.convert.elliptical_comps_from(axis_ratio=0.9, phi=45.0),\n",
    "    ),\n",
    ")\n",
    "\n",
    "source_galaxy = al.Galaxy(\n",
    "    redshift=1.0,\n",
    "    light=al.lp.EllipticalExponential(\n",
    "        centre=(0.0, 0.0), intensity=0.1, effective_radius=0.02\n",
    "    ),\n",
    "    point=al.ps.PointSource(centre=(0.0, 0.0)),\n",
    ")"
   ]
  },
  {
   "cell_type": "markdown",
   "metadata": {},
   "source": [
    "Use these galaxies to setup a tracer, which will compute the multiple image positions of the simulated dataset."
   ]
  },
  {
   "cell_type": "code",
   "execution_count": 5,
   "metadata": {
    "execution": {
     "iopub.execute_input": "2021-02-08T14:48:07.476659Z",
     "iopub.status.busy": "2021-02-08T14:48:07.476270Z",
     "iopub.status.idle": "2021-02-08T14:48:07.478693Z",
     "shell.execute_reply": "2021-02-08T14:48:07.478969Z"
    }
   },
   "outputs": [],
   "source": [
    "tracer = al.Tracer.from_galaxies(galaxies=[lens_galaxy, source_galaxy])"
   ]
  },
  {
   "cell_type": "markdown",
   "metadata": {},
   "source": [
    "We will use a `PositionSolver` to locate the multiple images. \n",
    "\n",
    "We will use computationally slow but robust settings to ensure we accurately locate the image-plane positions."
   ]
  },
  {
   "cell_type": "code",
   "execution_count": 6,
   "metadata": {
    "execution": {
     "iopub.execute_input": "2021-02-08T14:48:07.482121Z",
     "iopub.status.busy": "2021-02-08T14:48:07.481735Z",
     "iopub.status.idle": "2021-02-08T14:48:07.585701Z",
     "shell.execute_reply": "2021-02-08T14:48:07.585985Z"
    }
   },
   "outputs": [],
   "source": [
    "grid = al.Grid2D.uniform(\n",
    "    shape_native=(100, 100),\n",
    "    pixel_scales=0.05,  # <- The pixel-scale describes the conversion from pixel units to arc-seconds.\n",
    ")\n",
    "\n",
    "solver = al.PositionsSolver(\n",
    "    grid=grid, use_upscaling=True, pixel_scale_precision=0.001, upscale_factor=2\n",
    ")"
   ]
  },
  {
   "cell_type": "markdown",
   "metadata": {},
   "source": [
    "We now pass the `Tracer` to the solver. This will then find the image-plane coordinates that map directly to the\n",
    "source-plane coordinate (0.0\", 0.0\")."
   ]
  },
  {
   "cell_type": "code",
   "execution_count": 7,
   "metadata": {
    "execution": {
     "iopub.execute_input": "2021-02-08T14:48:07.588759Z",
     "iopub.status.busy": "2021-02-08T14:48:07.588400Z",
     "iopub.status.idle": "2021-02-08T14:48:07.686287Z",
     "shell.execute_reply": "2021-02-08T14:48:07.686578Z"
    }
   },
   "outputs": [],
   "source": [
    "positions = solver.solve(lensing_obj=tracer, source_plane_coordinate=source_galaxy.point.centre)"
   ]
  },
  {
   "cell_type": "markdown",
   "metadata": {},
   "source": [
    "Use the positions to compute the magnification of the `Tracer` at every position."
   ]
  },
  {
   "cell_type": "code",
   "execution_count": 8,
   "metadata": {
    "execution": {
     "iopub.execute_input": "2021-02-08T14:48:07.692004Z",
     "iopub.status.busy": "2021-02-08T14:48:07.691619Z",
     "iopub.status.idle": "2021-02-08T14:48:07.693157Z",
     "shell.execute_reply": "2021-02-08T14:48:07.693423Z"
    }
   },
   "outputs": [],
   "source": [
    "magnifications = tracer.magnification_via_hessian_from_grid(grid=positions)"
   ]
  },
  {
   "cell_type": "markdown",
   "metadata": {},
   "source": [
    "We can now compute the observed fluxes of the `PointSource`, give we know how much each is magnified."
   ]
  },
  {
   "cell_type": "code",
   "execution_count": 9,
   "metadata": {
    "execution": {
     "iopub.execute_input": "2021-02-08T14:48:07.697295Z",
     "iopub.status.busy": "2021-02-08T14:48:07.696927Z",
     "iopub.status.idle": "2021-02-08T14:48:07.992652Z",
     "shell.execute_reply": "2021-02-08T14:48:07.992927Z"
    }
   },
   "outputs": [
    {
     "name": "stderr",
     "output_type": "stream",
     "text": [
      "/home/jammy/venvs/PyAuto/lib/python3.8/site-packages/numpy/core/_asarray.py:83: VisibleDeprecationWarning: Creating an ndarray from ragged nested sequences (which is a list-or-tuple of lists-or-tuples-or ndarrays with different lengths or shapes) is deprecated. If you meant to do this, you must specify 'dtype=object' when creating the ndarray\n",
      "  return array(a, dtype, copy=False, order=order)\n"
     ]
    },
    {
     "data": {
      "image/png": "[encoded data removed]",
      "text/plain": [
       "<Figure size 504x504 with 2 Axes>"
      ]
     },
     "metadata": {
      "needs_background": "light"
     },
     "output_type": "display_data"
    }
   ],
   "source": [
    "flux = 1.0\n",
    "fluxes = [flux * np.abs(magnification) for magnification in magnifications]\n",
    "fluxes = al.ValuesIrregular(values=fluxes)\n",
    "\n",
    "visuals_2d = aplt.Visuals2D(multiple_images=positions)\n",
    "\n",
    "tracer_plotter = aplt.TracerPlotter(tracer=tracer, grid=grid, visuals_2d=visuals_2d)\n",
    "tracer_plotter.figures(image=True)\n",
    "\n",
    "mat_plot_2d = aplt.MatPlot2D(\n",
    "    output=aplt.Output(path=dataset_path, filename=\"image\", format=\"fits\")\n",
    ")\n",
    "\n",
    "tracer_plotter = aplt.TracerPlotter(tracer=tracer, grid=grid, mat_plot_2d=mat_plot_2d)\n",
    "tracer_plotter.figures(image=True)"
   ]
  },
  {
   "cell_type": "markdown",
   "metadata": {},
   "source": [
    "Output the simulated dataset to the dataset path as .fits files."
   ]
  },
  {
   "cell_type": "code",
   "execution_count": 10,
   "metadata": {
    "execution": {
     "iopub.execute_input": "2021-02-08T14:48:07.995834Z",
     "iopub.status.busy": "2021-02-08T14:48:07.995477Z",
     "iopub.status.idle": "2021-02-08T14:48:08.000904Z",
     "shell.execute_reply": "2021-02-08T14:48:08.001468Z"
    }
   },
   "outputs": [],
   "source": [
    "positions.output_to_json(\n",
    "    file_path=path.join(dataset_path, \"positions.json\"), overwrite=True\n",
    ")\n",
    "fluxes.output_to_json(file_path=path.join(dataset_path, \"fluxes.json\"), overwrite=True)"
   ]
  },
  {
   "cell_type": "markdown",
   "metadata": {},
   "source": [
    "Output a subplot of the simulated dataset, the image and a subplot of the `Tracer`'s quantities to the dataset path \n",
    "as .png files."
   ]
  },
  {
   "cell_type": "code",
   "execution_count": 11,
   "metadata": {
    "execution": {
     "iopub.execute_input": "2021-02-08T14:48:08.004722Z",
     "iopub.status.busy": "2021-02-08T14:48:08.004363Z",
     "iopub.status.idle": "2021-02-08T14:48:09.700108Z",
     "shell.execute_reply": "2021-02-08T14:48:09.699696Z"
    }
   },
   "outputs": [],
   "source": [
    "mat_plot_2d = aplt.MatPlot2D(output=aplt.Output(path=dataset_path, format=\"png\"))\n",
    "\n",
    "tracer_plotter = aplt.TracerPlotter(tracer=tracer, grid=grid, mat_plot_2d=mat_plot_2d)\n",
    "tracer_plotter.subplot_tracer()\n"
   ]
  },
  {
   "cell_type": "markdown",
   "metadata": {},
   "source": [
    "Pickle the `Tracer` in the dataset folder, ensuring the true `Tracer` is safely stored and available if we need to \n",
    "check how the dataset was simulated in the future. \n",
    "\n",
    "This will also be accessible via the `Aggregator` if a model-fit is performed using the dataset."
   ]
  },
  {
   "cell_type": "code",
   "execution_count": 12,
   "metadata": {
    "execution": {
     "iopub.execute_input": "2021-02-08T14:48:09.702937Z",
     "iopub.status.busy": "2021-02-08T14:48:09.702554Z",
     "iopub.status.idle": "2021-02-08T14:48:09.705660Z",
     "shell.execute_reply": "2021-02-08T14:48:09.705266Z"
    }
   },
   "outputs": [],
   "source": [
    "tracer.save(file_path=dataset_path, filename=\"true_tracer\")"
   ]
  },
  {
   "cell_type": "markdown",
   "metadata": {},
   "source": [
    "Finished."
   ]
  }
 ],
 "metadata": {
  "anaconda-cloud": {},
  "kernelspec": {
   "display_name": "Python 3",
   "language": "python",
   "name": "python3"
  },
  "language_info": {
   "codemirror_mode": {
    "name": "ipython",
    "version": 3
   },
   "file_extension": ".py",
   "mimetype": "text/x-python",
   "name": "python",
   "nbconvert_exporter": "python",
   "pygments_lexer": "ipython3",
   "version": "3.8.5"
  }
 },
 "nbformat": 4,
 "nbformat_minor": 4
}
