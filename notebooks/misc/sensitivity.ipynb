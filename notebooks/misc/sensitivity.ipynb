{
  "cells": [
    {
      "cell_type": "markdown",
      "metadata": {},
      "source": [
        "__Example: Modeling__\n",
        "\n",
        "To fit a lens model to a dataset, we must perform lens modeling, which uses a `NonLinearSearch` to fit many\n",
        "different tracers to the dataset.\n",
        "\n",
        "In this example script, we fit `Imaging` of a strong lens system where:\n",
        "\n",
        " - The lens galaxy's light is omitted (and is not present in the simulated data).\n",
        " - The lens galaxy's total mass distribution is modeled as an `EllipticalIsothermal`.\n",
        " - The source galaxy's light is modeled parametrically as an `EllipticalSersic`."
      ]
    },
    {
      "cell_type": "code",
      "metadata": {},
      "source": [
        "%matplotlib inline\n",
        "from pyprojroot import here\n",
        "workspace_path = str(here())\n",
        "%cd $workspace_path\n",
        "print(f\"Working Directory has been set to `{workspace_path}`\")"
      ],
      "outputs": [],
      "execution_count": null
    },
    {
      "cell_type": "markdown",
      "metadata": {},
      "source": [
        "Load the strong lens dataset `mass_sie__source_sersic` `from .fits files, which is the dataset we will\n",
        "use to perform lens modeling.\n",
        "\n",
        "This is the same dataset we fitted in the `autolens/intro/fitting.py` example."
      ]
    },
    {
      "cell_type": "code",
      "metadata": {},
      "source": [
        "from os import path\n",
        "import autofit as af\n",
        "import autolens as al\n",
        "import autolens.plot as aplt\n",
        "\n",
        "dataset_name = \"mass_sie__source_sersic\"\n",
        "dataset_path = path.join(\"dataset\", \"imaging\", \"no_lens_light\", dataset_name)\n",
        "\n",
        "imaging = al.Imaging.from_fits(\n",
        "    image_path=path.join(dataset_path, \"image.fits\"),\n",
        "    psf_path=path.join(dataset_path, \"psf.fits\"),\n",
        "    noise_map_path=path.join(dataset_path, \"noise_map.fits\"),\n",
        "    pixel_scales=0.2,\n",
        ")"
      ],
      "outputs": [],
      "execution_count": null
    },
    {
      "cell_type": "markdown",
      "metadata": {},
      "source": [
        "The model-fit also requires a mask defining the regions of the image we fit the lens model to the data."
      ]
    },
    {
      "cell_type": "code",
      "metadata": {},
      "source": [
        "mask = al.Mask2D.circular(\n",
        "    shape_native=imaging.shape_native, pixel_scales=imaging.pixel_scales, radius=3.0\n",
        ")\n",
        "\n",
        "imaging_plotter = aplt.ImagingPlotter(\n",
        "    imaging=imaging, visuals_2d=aplt.Visuals2D(mask=mask)\n",
        ")\n",
        "imaging_plotter.subplot_imaging()"
      ],
      "outputs": [],
      "execution_count": null
    },
    {
      "cell_type": "markdown",
      "metadata": {},
      "source": [
        "__Phase__\n",
        "\n",
        "To perform lens modeling, we create a `PhaseImaging` object, which comprises:\n",
        "\n",
        "   - The `GalaxyModel`'s used to fit the data.\n",
        "   - The `SettingsPhase` which customize how the model is fitted to the data.\n",
        "   - The `NonLinearSearch` used to sample parameter space.\n",
        "\n",
        "Once we have create the phase, we `run` it by passing it the data and mask.\n",
        "\n",
        "__Model__\n",
        "\n",
        "We compose our lens model using `GalaxyModel` objects, which represent the galaxies we fit to our data. In this \n",
        "example our lens mooel is:\n",
        "\n",
        " - An `EllipticalIsothermal` `MassProfile`.for the lens galaxy's mass (5 parameters).\n",
        " - An `EllipticalSersic` `LightProfile`.for the source galaxy's light (7 parameters).\n",
        "\n",
        "The number of free parameters and therefore the dimensionality of non-linear parameter space is N=12.\n",
        "\n",
        "NOTE: By default, **PyAutoLens** assumes the image has been reduced such that the lens galaxy centre is at (0.0\", 0.0\"),\n",
        "with the priors on the lens `MassProfile` coordinates set accordingly. if for your dataset the lens is not centred at \n",
        "(0.0\", 0.0\"), we recommend you reduce your data so it is (see `autolens_workspace/notebooks/preprocess`).  Alternatively, you \n",
        "can manually override the priors (see `autolens_workspace/notebooks/modeling/customize/priors.py`)."
      ]
    },
    {
      "cell_type": "code",
      "metadata": {},
      "source": [
        "lens = al.GalaxyModel(redshift=0.5, mass=al.mp.EllipticalIsothermal)\n",
        "source = al.GalaxyModel(redshift=1.0, bulge=al.lp.EllipticalSersic)"
      ],
      "outputs": [],
      "execution_count": null
    },
    {
      "cell_type": "markdown",
      "metadata": {},
      "source": [
        "__Settings__\n",
        "\n",
        "Next, we specify the `SettingsPhaseImaging`, which describe how the model is fitted to the data in the log likelihood\n",
        "function. Below, we specify:\n",
        "\n",
        " - That a regular `Grid2D` is used to fit create the model-image when fitting the data \n",
        "      (see `autolens_workspace/examples/grids.py` for a description of grids).\n",
        " - The sub-grid size of this grid.\n",
        "\n",
        "Different `SettingsPhase` are used in different example model scripts and a full description of all `SettingsPhase` \n",
        "can be found in the example script `autolens/workspace/notebooks/modeling/customize/settings.py` and the following \n",
        "chain -> <chain>"
      ]
    },
    {
      "cell_type": "code",
      "metadata": {},
      "source": [
        "settings_masked_imaging = al.SettingsMaskedImaging(grid_class=al.Grid2D, sub_size=2)\n",
        "\n",
        "settings = al.SettingsPhaseImaging(settings_masked_imaging=settings_masked_imaging)"
      ],
      "outputs": [],
      "execution_count": null
    },
    {
      "cell_type": "markdown",
      "metadata": {},
      "source": [
        "__Search__\n",
        "\n",
        "The lens model is fitted to the data using a `NonLinearSearch`, which we specify below. In this example, we use the\n",
        "nested sampling algorithm Dynesty (https://dynesty.readthedocs.io/en/latest/), with:\n",
        "\n",
        " - 50 live points.\n",
        "\n",
        "The script `autolens_workspace/notebooks/modeling/customize/non_linear_searches.py` gives a description of the types of\n",
        "non-linear searches that can be used with **PyAutoLens**. If you do not know what a `NonLinearSearch` is or how it \n",
        "operates, I recommend you complete chapters 1 and 2 of the HowToLens lecture series.\n",
        "\n",
        "The `name` and `path_prefix` below specify the path where results ae stored in the output folder:  \n",
        "\n",
        " `/autolens_workspace/output/sensitivity/mass_sie__source_sersic/phase_mass[sie]_source[bulge]`."
      ]
    },
    {
      "cell_type": "code",
      "metadata": {},
      "source": [
        "search = af.DynestyStatic(\n",
        "    path_prefix=path.join(\"beginner\", dataset_name),\n",
        "    name=\"phase_mass[sie]_source[bulge]\",\n",
        "    n_live_points=50,\n",
        ")"
      ],
      "outputs": [],
      "execution_count": null
    },
    {
      "cell_type": "markdown",
      "metadata": {},
      "source": [
        "__Phase__\n",
        "\n",
        "We can now combine the model, settings and search to create and run a phase, fitting our data with the lens model."
      ]
    },
    {
      "cell_type": "code",
      "metadata": {},
      "source": [
        "phase = al.PhaseImaging(\n",
        "    search=search,\n",
        "    galaxies=af.CollectionPriorModel(lens=lens, source=source),\n",
        "    settings=settings,\n",
        ")"
      ],
      "outputs": [],
      "execution_count": null
    },
    {
      "cell_type": "markdown",
      "metadata": {},
      "source": [
        "We can now begin the fit by passing the dataset and mask to the phase, which will use the `NonLinearSearch` to fit\n",
        "the model to the data. \n",
        "\n",
        "The fit outputs visualization on-the-fly, so checkout the path \n",
        "`autolens_workspace/output/examples/phase_mass[sie]_source[bulge]` to see how your fit is doing!"
      ]
    },
    {
      "cell_type": "code",
      "metadata": {},
      "source": [
        "result = phase.run(dataset=imaging, mask=mask)"
      ],
      "outputs": [],
      "execution_count": null
    },
    {
      "cell_type": "markdown",
      "metadata": {},
      "source": [
        "Checkout `autolens_workspace/notebooks/modeling/results.py` for a full description of the result object."
      ]
    },
    {
      "cell_type": "code",
      "metadata": {},
      "source": [
        "%matplotlib inline\n",
        "from pyprojroot import here\n",
        "workspace_path = str(here())\n",
        "%cd $workspace_path\n",
        "print(f\"Working Directory has been set to `{workspace_path}`\")\n",
        "\n",
        "from os import path\n",
        "import autofit as af\n",
        "import autolens as al\n",
        "import autolens.plot as aplt\n",
        "\n",
        "### model ###\n",
        "\n",
        "galaxies = af.CollectionPriorModel(\n",
        "    lens=al.GalaxyModel(redshift=0.5, mass=al.mp.EllipticalIsothermal),\n",
        "    source=al.GalaxyModel(redshift=1.0, bulge=al.lp.EllipticalSersic),\n",
        ")\n",
        "\n",
        "model = af.Model(galaxies)\n",
        "\n",
        "### perturbation model ###\n",
        "\n",
        "subhalo = al.GalaxyModel(redshift=0.5, mass=al.mp.SphericalNFWMCRLudlow)\n",
        "subhalo.mass.mass_at_200 = af.LogUniformPrior(lower_limit=1.0e6, upper_limit=1.0e11)\n",
        "subhalo.mass.centre_0 = af.UniformPrior(lower_limit=-2.0, upper_limit=2.0)\n",
        "subhalo.mass.centre_1 = af.UniformPrior(lower_limit=-2.0, upper_limit=2.0)\n",
        "\n",
        "subhalo.mass.redshift_object = 0.5\n",
        "subhalo.mass.redshift_source = 1.0\n",
        "\n",
        "### simulate function ###\n",
        "\n",
        "\n",
        "def simulate_function(instance):\n",
        "\n",
        "    tracer = al.Tracer.from_galaxies(\n",
        "        galaxies=[\n",
        "            instance.galaxies.lens,\n",
        "            instance.perturbation,\n",
        "            instance.galaxies.source,\n",
        "        ]\n",
        "    )\n",
        "\n",
        "    grid = al.Grid2DIterate.uniform(\n",
        "        shape_native=(100, 100),\n",
        "        pixel_scales=0.2,\n",
        "        fractional_accuracy=0.9999,\n",
        "        sub_steps=[2, 4, 8, 16, 24],\n",
        "    )\n",
        "\n",
        "    psf = al.Kernel2D.from_gaussian(\n",
        "        shape_native=(3, 3), sigma=0.1, pixel_scales=grid.pixel_scales\n",
        "    )\n",
        "\n",
        "    simulator = al.SimulatorImaging(\n",
        "        exposure_time=300.0, psf=psf, background_sky_level=0.1, add_poisson_noise=True\n",
        "    )\n",
        "\n",
        "    # tracer = al.Tracer.from_galaxies(galaxies=instance.model)\n",
        "\n",
        "    imaging = simulator.from_tracer_and_grid(tracer=tracer, grid=grid)\n",
        "\n",
        "    mask = al.Mask2D.circular(\n",
        "        shape_native=(100, 100), pixel_scales=0.2, sub_size=1, radius=3.0\n",
        "    )\n",
        "\n",
        "    return al.MaskedImaging(imaging=imaging, mask=mask)\n",
        "\n",
        "\n",
        "### Analysis ###\n",
        "\n",
        "dataset_name = \"mass_sie__source_sersic\"\n",
        "dataset_path = path.join(\"dataset\", \"imaging\", \"no_lens_light\", dataset_name)\n",
        "\n",
        "imaging = al.Imaging.from_fits(\n",
        "    image_path=path.join(dataset_path, \"image.fits\"),\n",
        "    psf_path=path.join(dataset_path, \"psf.fits\"),\n",
        "    noise_map_path=path.join(dataset_path, \"noise_map.fits\"),\n",
        "    pixel_scales=0.2,\n",
        ")\n",
        "\n",
        "\n",
        "from astropy import cosmology as cosmo\n",
        "from autolens.pipeline.phase.imaging import analysis as a\n",
        "\n",
        "# TODO : The analysius class can have inputs other than the dataset. Is there a better way to feed this info through to\n",
        "# TODO : the sensitivty?\n",
        "\n",
        "\n",
        "class Analysis(a.Analysis):\n",
        "    def __init__(self, masked_imaging):\n",
        "\n",
        "        super().__init__(\n",
        "            masked_imaging=masked_imaging,\n",
        "            settings=al.SettingsPhaseImaging(),\n",
        "            cosmology=cosmo.Planck15,\n",
        "        )\n",
        "\n",
        "\n",
        "from autofit.non_linear.grid import sensitivity as s\n",
        "\n",
        "sensitivity = s.Sensitivity(\n",
        "    simulation_instance=result.instance,\n",
        "    base_model=model,\n",
        "    perturbation_model=subhalo,\n",
        "    simulate_function=simulate_function,\n",
        "    analysis_class=Analysis,\n",
        "    search=af.DynestyStatic(name=\"phase_sensitivity\"),\n",
        "    step_size=0.5,\n",
        "    number_of_cores=2,\n",
        ")\n",
        "\n",
        "sensitivity.run()\n"
      ],
      "outputs": [],
      "execution_count": null
    }
  ],
  "metadata": {
    "anaconda-cloud": {},
    "kernelspec": {
      "display_name": "Python 3",
      "language": "python",
      "name": "python3"
    },
    "language_info": {
      "codemirror_mode": {
        "name": "ipython",
        "version": 3
      },
      "file_extension": ".py",
      "mimetype": "text/x-python",
      "name": "python",
      "nbconvert_exporter": "python",
      "pygments_lexer": "ipython3",
      "version": "3.6.1"
    }
  },
  "nbformat": 4,
  "nbformat_minor": 4
}