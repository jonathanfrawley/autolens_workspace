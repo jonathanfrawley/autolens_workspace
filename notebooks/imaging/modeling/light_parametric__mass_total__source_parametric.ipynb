{
 "cells": [
  {
   "cell_type": "markdown",
   "metadata": {},
   "source": [
    "__Example: Modeling__\n",
    "\n",
    "To fit a lens model to a dataset, we must perform lens modeling, which uses a `NonLinearSearch` to fit many\n",
    "different tracers to the dataset.\n",
    "\n",
    "In this example script, we fit `Imaging` of a strong lens system where:\n",
    "\n",
    " - The lens galaxy's light is modeled parametrically as an `EllipticalSersic` and `EllipticalExponential`.\n",
    " - The lens galaxy's total mass distribution is modeled as an `EllipticalIsothermal` and `ExternalShear`.\n",
    " - The source galaxy's light is modeled parametrically as an `EllipticalSersic`."
   ]
  },
  {
   "cell_type": "code",
   "execution_count": null,
   "metadata": {
    "execution": {
     "iopub.execute_input": "2021-02-08T19:37:22.139808Z",
     "iopub.status.busy": "2021-02-08T19:37:22.139439Z",
     "iopub.status.idle": "2021-02-08T19:37:24.681613Z",
     "shell.execute_reply": "2021-02-08T19:37:24.680451Z"
    }
   },
   "outputs": [],
   "source": [
    "%matplotlib inline\n",
    "from pyprojroot import here\n",
    "workspace_path = str(here())\n",
    "%cd $workspace_path\n",
    "print(f\"Working Directory has been set to `{workspace_path}`\")\n",
    "\n",
    "from os import path\n",
    "import autofit as af\n",
    "import autolens as al\n",
    "import autolens.plot as aplt"
   ]
  },
  {
   "cell_type": "markdown",
   "metadata": {},
   "source": [
    "Load the strong lens dataset `light_sersic__mass_sie__source_sersic` `from .fits files, which is the dataset \n",
    "we will use to perform lens modeling."
   ]
  },
  {
   "cell_type": "code",
   "execution_count": null,
   "metadata": {
    "execution": {
     "iopub.execute_input": "2021-02-08T19:37:24.688001Z",
     "iopub.status.busy": "2021-02-08T19:37:24.687286Z",
     "iopub.status.idle": "2021-02-08T19:37:24.785702Z",
     "shell.execute_reply": "2021-02-08T19:37:24.785363Z"
    }
   },
   "outputs": [],
   "source": [
    "dataset_name = \"light_sersic_exp__mass_sie__source_sersic\"\n",
    "dataset_path = path.join(\"dataset\", \"imaging\", \"with_lens_light\", dataset_name)\n",
    "\n",
    "imaging = al.Imaging.from_fits(\n",
    "    image_path=path.join(dataset_path, \"image.fits\"),\n",
    "    psf_path=path.join(dataset_path, \"psf.fits\"),\n",
    "    noise_map_path=path.join(dataset_path, \"noise_map.fits\"),\n",
    "    pixel_scales=0.1,\n",
    ")"
   ]
  },
  {
   "cell_type": "markdown",
   "metadata": {},
   "source": [
    "The model-fit also requires a mask defining the regions of the image we fit the lens model to the data."
   ]
  },
  {
   "cell_type": "code",
   "execution_count": null,
   "metadata": {
    "execution": {
     "iopub.execute_input": "2021-02-08T19:37:24.788890Z",
     "iopub.status.busy": "2021-02-08T19:37:24.788578Z",
     "iopub.status.idle": "2021-02-08T19:37:25.771055Z",
     "shell.execute_reply": "2021-02-08T19:37:25.771330Z"
    }
   },
   "outputs": [],
   "source": [
    "mask = al.Mask2D.circular(\n",
    "    shape_native=imaging.shape_native, pixel_scales=imaging.pixel_scales, radius=3.0\n",
    ")\n",
    "\n",
    "imaging_plotter = aplt.ImagingPlotter(\n",
    "    imaging=imaging, visuals_2d=aplt.Visuals2D(mask=mask)\n",
    ")\n",
    "imaging_plotter.subplot_imaging()"
   ]
  },
  {
   "cell_type": "markdown",
   "metadata": {},
   "source": [
    "__Phase__\n",
    "\n",
    "To perform lens modeling, we create a `PhaseImaging` object, which comprises:\n",
    "\n",
    "   - The `GalaxyModel`'s used to fit the data.\n",
    "   - The `SettingsPhase` which customize how the model is fitted to the data.\n",
    "   - The `NonLinearSearch` used to sample parameter space.\n",
    "   \n",
    "Once we have create the phase, we `run` it by passing it the data and mask.\n",
    "\n",
    "__Model__\n",
    "\n",
    "We compose our lens model using `GalaxyModel` objects, which represent the galaxies we fit to our data. In this \n",
    "example our lens model is:\n",
    "\n",
    " - The lens galaxy's light is modeled parametrically as an `EllipticalSersic` and `EllipticalExponential`,\n",
    "   the centres of which are aligned (11 parameters).\n",
    " - The lens galaxy's total mass distribution is modeled as an `EllipticalIsothermal` and `ExternalShear` (7 parameters).\n",
    " - The source galaxy's light is modeled parametrically as an `EllipticalSersic` (7 parameters).\n",
    "\n",
    "The number of free parameters and therefore the dimensionality of non-linear parameter space is N=27.\n",
    "\n",
    "NOTE: By default, **PyAutoLens** assumes the image has been reduced such that the lens galaxy centre is at (0.0\", 0.0\"),\n",
    "with the priors on the lens `LightProfile` and `MassProfile` coordinates set accordingly. if for your dataset the lens\n",
    "is not centred at (0.0\", 0.0\"), we recommend you reduce your data so it is (see `autolens_workspace/notebooks/preprocess`). \n",
    "\n",
    "Alternatively, you can manually override the priors (see `autolens_workspace/notebooks/imaging/modeling/customize/priors.py`).\n",
    "This aligns the centres of the bulge and disk, so they share identical values during the non-linear search."
   ]
  },
  {
   "cell_type": "code",
   "execution_count": null,
   "metadata": {
    "execution": {
     "iopub.execute_input": "2021-02-08T19:37:25.775106Z",
     "iopub.status.busy": "2021-02-08T19:37:25.774744Z",
     "iopub.status.idle": "2021-02-08T19:37:26.081164Z",
     "shell.execute_reply": "2021-02-08T19:37:26.081433Z"
    }
   },
   "outputs": [],
   "source": [
    "bulge = af.PriorModel(al.lp.EllipticalSersic)\n",
    "disk = af.PriorModel(al.lp.EllipticalExponential)\n",
    "bulge.centre = disk.centre\n",
    "\n",
    "lens = al.GalaxyModel(\n",
    "    redshift=0.5,\n",
    "    bulge=bulge,\n",
    "    disk=disk,\n",
    "    mass=al.mp.EllipticalIsothermal,\n",
    "    shear=al.mp.ExternalShear,\n",
    ")\n",
    "source = al.GalaxyModel(redshift=1.0, bulge=al.lp.EllipticalSersic)"
   ]
  },
  {
   "cell_type": "markdown",
   "metadata": {},
   "source": [
    "__Settings__\n",
    "\n",
    "Next, we specify the `SettingsPhaseImaging`, which describe how the model is fitted to the data in the log likelihood\n",
    "function. Below, we specify:\n",
    " \n",
    " - That a regular `Grid2D` is used to fit create the model-image when fitting the data \n",
    "      (see `autolens_workspace/examples/grids.py` for a description of grids).\n",
    " - The sub-grid size of this grid.\n",
    "\n",
    "Different `SettingsPhase` are used in different example model scripts and a full description of all `SettingsPhase` \n",
    "can be found in the example script `autolens/workspace/notebooks/imaging/modeling/customize/settings.py` and the following \n",
    "chain -> <chain>"
   ]
  },
  {
   "cell_type": "code",
   "execution_count": null,
   "metadata": {
    "execution": {
     "iopub.execute_input": "2021-02-08T19:37:26.084072Z",
     "iopub.status.busy": "2021-02-08T19:37:26.083637Z",
     "iopub.status.idle": "2021-02-08T19:37:26.085460Z",
     "shell.execute_reply": "2021-02-08T19:37:26.085200Z"
    }
   },
   "outputs": [],
   "source": [
    "settings_masked_imaging = al.SettingsMaskedImaging(grid_class=al.Grid2D, sub_size=2)\n",
    "\n",
    "settings = al.SettingsPhaseImaging(settings_masked_imaging=settings_masked_imaging)"
   ]
  },
  {
   "cell_type": "markdown",
   "metadata": {},
   "source": [
    "__Search__\n",
    "\n",
    "The lens model is fitted to the data using a `NonLinearSearch`, which we specify below. In this example, we use the\n",
    "nested sampling algorithm Dynesty (https://dynesty.readthedocs.io/en/latest/), with:\n",
    "\n",
    " - 100 live points.\n",
    " - 10 walks, which instructs the 100 live points to sample parameter space more thoroughly before updating.\n",
    "\n",
    "The script `autolens_workspace/notebooks/imaging/modeling/customize/non_linear_searches.py` gives a description of the types of\n",
    "non-linear searches that can be used with **PyAutoLens**. If you do not know what a `NonLinearSearch` is or how it \n",
    "operates, I recommend you complete chapters 1 and 2 of the HowToLens lecture series.\n",
    "\n",
    "The `name` and `path_prefix` below specify the path where results are stored in the output folder:  \n",
    "\n",
    " `/autolens_workspace/output/imaging/light_sersic__mass_sie__source_sersic/phase_light[bulge]_mass[sie]_source[bulge]`."
   ]
  },
  {
   "cell_type": "code",
   "execution_count": null,
   "metadata": {
    "execution": {
     "iopub.execute_input": "2021-02-08T19:37:26.087976Z",
     "iopub.status.busy": "2021-02-08T19:37:26.087641Z",
     "iopub.status.idle": "2021-02-08T19:37:26.089270Z",
     "shell.execute_reply": "2021-02-08T19:37:26.089538Z"
    }
   },
   "outputs": [],
   "source": [
    "search = af.DynestyStatic(\n",
    "    path_prefix=path.join(\"imaging\", dataset_name),\n",
    "    name=\"phase_light[bulge]_mass[sie]_source[bulge]\",\n",
    "    n_live_points=100,\n",
    "    walks=10,\n",
    ")"
   ]
  },
  {
   "cell_type": "markdown",
   "metadata": {},
   "source": [
    "__Phase__\n",
    "\n",
    "We can now combine the model, settings and search to create and run a phase, fitting our data with the lens model."
   ]
  },
  {
   "cell_type": "code",
   "execution_count": null,
   "metadata": {
    "execution": {
     "iopub.execute_input": "2021-02-08T19:37:26.091976Z",
     "iopub.status.busy": "2021-02-08T19:37:26.091648Z",
     "iopub.status.idle": "2021-02-08T19:37:26.093531Z",
     "shell.execute_reply": "2021-02-08T19:37:26.093203Z"
    }
   },
   "outputs": [],
   "source": [
    "phase = al.PhaseImaging(\n",
    "    search=search,\n",
    "    galaxies=af.CollectionPriorModel(lens=lens, source=source),\n",
    "    settings=settings,\n",
    ")"
   ]
  },
  {
   "cell_type": "markdown",
   "metadata": {},
   "source": [
    "We can now begin the fit by passing the dataset and mask to the phase, which will use the `NonLinearSearch` to fit\n",
    "the model to the data. \n",
    "\n",
    "The fit outputs visualization on-the-fly, so checkout the path \n",
    "`autolens_workspace/output/examples/phase_light[bulge]_mass[sie]_source[bulge]` to see how your fit is doing!"
   ]
  },
  {
   "cell_type": "code",
   "execution_count": null,
   "metadata": {
    "execution": {
     "iopub.execute_input": "2021-02-08T19:37:26.099359Z",
     "iopub.status.busy": "2021-02-08T19:37:26.098933Z",
     "iopub.status.idle": "2021-02-08T19:37:27.861719Z",
     "shell.execute_reply": "2021-02-08T19:37:27.861359Z"
    }
   },
   "outputs": [],
   "source": [
    "result = phase.run(dataset=imaging, mask=mask)"
   ]
  },
  {
   "cell_type": "markdown",
   "metadata": {},
   "source": [
    "The phase above returned a result, which, for example, includes the lens model corresponding to the maximum\n",
    "log likelihood solution in parameter space."
   ]
  },
  {
   "cell_type": "code",
   "execution_count": null,
   "metadata": {
    "execution": {
     "iopub.execute_input": "2021-02-08T19:37:27.864141Z",
     "iopub.status.busy": "2021-02-08T19:37:27.863810Z",
     "iopub.status.idle": "2021-02-08T19:37:27.865936Z",
     "shell.execute_reply": "2021-02-08T19:37:27.865602Z"
    }
   },
   "outputs": [],
   "source": [
    "print(result.max_log_likelihood_instance)"
   ]
  },
  {
   "cell_type": "markdown",
   "metadata": {},
   "source": [
    "It also contains instances of the maximum log likelihood Tracer and FitImaging, which can be used to visualize\n",
    "the fit."
   ]
  },
  {
   "cell_type": "code",
   "execution_count": null,
   "metadata": {
    "execution": {
     "iopub.execute_input": "2021-02-08T19:37:27.869032Z",
     "iopub.status.busy": "2021-02-08T19:37:27.868716Z",
     "iopub.status.idle": "2021-02-08T19:37:29.732345Z",
     "shell.execute_reply": "2021-02-08T19:37:29.732620Z"
    }
   },
   "outputs": [],
   "source": [
    "tracer_plotter = aplt.TracerPlotter(\n",
    "    tracer=result.max_log_likelihood_tracer, grid=mask.masked_grid_sub_1\n",
    ")\n",
    "tracer_plotter.subplot_tracer()\n",
    "fit_imaging_plotter = aplt.FitImagingPlotter(fit=result.max_log_likelihood_fit)\n",
    "fit_imaging_plotter.subplot_fit_imaging()\n",
    "\n"
   ]
  }
 ],
 "metadata": {
  "anaconda-cloud": {},
  "kernelspec": {
   "display_name": "Python 3",
   "language": "python",
   "name": "python3"
  },
  "language_info": {
   "codemirror_mode": {
    "name": "ipython",
    "version": 3
   },
   "file_extension": ".py",
   "mimetype": "text/x-python",
   "name": "python",
   "nbconvert_exporter": "python",
   "pygments_lexer": "ipython3",
   "version": "3.8.5"
  }
 },
 "nbformat": 4,
 "nbformat_minor": 4
}
