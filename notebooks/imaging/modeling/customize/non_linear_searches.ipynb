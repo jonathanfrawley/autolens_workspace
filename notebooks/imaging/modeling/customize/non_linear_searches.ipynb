{
 "cells": [
  {
   "cell_type": "markdown",
   "metadata": {},
   "source": [
    "__Example: Non-linear Searches__\n",
    "\n",
    "In the `beginner` examples all model-fits were performed using the nested sampling algorithm `Dynesty`, which is a\n",
    "very effective `NonLinearSearch` for lens modeling, but may not always be the optimal choice for your\n",
    "problem. In this example we fit strong lens data using a variety of non-linear searches.\n",
    "\n",
    "In this example script, we fit `Imaging` of a strong lens system where:\n",
    "\n",
    " - The lens galaxy's light is omitted (and is not present in the simulated data).\n",
    " - The lens galaxy's total mass distribution is modeled as an `EllipticalIsothermal`.\n",
    " - The source galaxy's light is modeled parametrically as an `EllipticalSersic`."
   ]
  },
  {
   "cell_type": "code",
   "execution_count": null,
   "metadata": {
    "execution": {
     "iopub.execute_input": "2021-02-08T18:57:57.534469Z",
     "iopub.status.busy": "2021-02-08T18:57:57.534049Z",
     "iopub.status.idle": "2021-02-08T18:58:00.365497Z",
     "shell.execute_reply": "2021-02-08T18:58:00.365780Z"
    }
   },
   "outputs": [],
   "source": [
    "%matplotlib inline\n",
    "from pyprojroot import here\n",
    "workspace_path = str(here())\n",
    "%cd $workspace_path\n",
    "print(f\"Working Directory has been set to `{workspace_path}`\")\n",
    "\n",
    "from os import path\n",
    "import autofit as af\n",
    "import autolens as al\n",
    "import autolens.plot as aplt"
   ]
  },
  {
   "cell_type": "markdown",
   "metadata": {},
   "source": [
    "As per usual, load the `Imaging` data, create the `Mask2D` and plot them. In this strong lensing dataset:\n",
    "\n",
    " - The lens galaxy's light is omitted.\n",
    " - The lens galaxy's total mass distribution is an `EllipticalIsothermal`.\n",
    " - The source galaxy's `LightProfile` is an `EllipticalExponential`."
   ]
  },
  {
   "cell_type": "code",
   "execution_count": null,
   "metadata": {
    "execution": {
     "iopub.execute_input": "2021-02-08T18:58:00.369376Z",
     "iopub.status.busy": "2021-02-08T18:58:00.369047Z",
     "iopub.status.idle": "2021-02-08T18:58:01.584884Z",
     "shell.execute_reply": "2021-02-08T18:58:01.585440Z"
    }
   },
   "outputs": [],
   "source": [
    "dataset_name = \"mass_sie__source_sersic\"\n",
    "dataset_path = path.join(\"dataset\", \"imaging\", \"no_lens_light\", dataset_name)\n",
    "\n",
    "imaging = al.Imaging.from_fits(\n",
    "    image_path=path.join(dataset_path, \"image.fits\"),\n",
    "    noise_map_path=path.join(dataset_path, \"noise_map.fits\"),\n",
    "    psf_path=path.join(dataset_path, \"psf.fits\"),\n",
    "    pixel_scales=0.1,\n",
    ")\n",
    "\n",
    "mask = al.Mask2D.circular(\n",
    "    shape_native=imaging.shape_native, pixel_scales=imaging.pixel_scales, radius=3.0\n",
    ")\n",
    "\n",
    "imaging_plotter = aplt.ImagingPlotter(\n",
    "    imaging=imaging, visuals_2d=aplt.Visuals2D(mask=mask)\n",
    ")\n",
    "imaging_plotter.subplot_imaging()"
   ]
  },
  {
   "cell_type": "markdown",
   "metadata": {},
   "source": [
    "__Model__\n",
    "\n",
    "We compose our lens model using `GalaxyModel` objects, which represent the galaxies we fit to our data. In this \n",
    "example our lens mooel is:\n",
    "\n",
    " - An `EllipticalIsothermal` `MassProfile`.for the lens galaxy's mass (5 parameters).\n",
    " - An `EllipticalSersic` `LightProfile`.for the source galaxy's light (6 parameters).\n",
    "\n",
    "The number of free parameters and therefore the dimensionality of non-linear parameter space is N=11."
   ]
  },
  {
   "cell_type": "code",
   "execution_count": null,
   "metadata": {
    "execution": {
     "iopub.execute_input": "2021-02-08T18:58:01.591067Z",
     "iopub.status.busy": "2021-02-08T18:58:01.590636Z",
     "iopub.status.idle": "2021-02-08T18:58:01.770684Z",
     "shell.execute_reply": "2021-02-08T18:58:01.770154Z"
    }
   },
   "outputs": [],
   "source": [
    "lens = al.GalaxyModel(redshift=0.5, mass=al.mp.EllipticalIsothermal)\n",
    "source = al.GalaxyModel(redshift=1.0, bulge=al.lp.EllipticalSersic)"
   ]
  },
  {
   "cell_type": "markdown",
   "metadata": {},
   "source": [
    "__Settings__\n",
    "\n",
    "Next, we specify the `SettingsPhaseImaging`, which in this example simmply use the default values used in the beginner\n",
    "examples."
   ]
  },
  {
   "cell_type": "code",
   "execution_count": null,
   "metadata": {
    "execution": {
     "iopub.execute_input": "2021-02-08T18:58:01.775907Z",
     "iopub.status.busy": "2021-02-08T18:58:01.775419Z",
     "iopub.status.idle": "2021-02-08T18:58:01.778015Z",
     "shell.execute_reply": "2021-02-08T18:58:01.777643Z"
    }
   },
   "outputs": [],
   "source": [
    "settings_masked_imaging = al.SettingsMaskedImaging()\n",
    "\n",
    "settings = al.SettingsPhaseImaging(settings_masked_imaging=settings_masked_imaging)"
   ]
  },
  {
   "cell_type": "markdown",
   "metadata": {},
   "source": [
    "__Searches__\n",
    "\n",
    "Below we use the following non-linear searches:\n",
    "\n",
    "    1) Nested Sampler.\n",
    "    2) Optimize.\n",
    "    3) MCMC\n",
    "\n",
    "__Nested Sampling__\n",
    "\n",
    "To begin, lets again use the nested sampling method `Dynesty` that we have used in all examples up to now. We've seen \n",
    "that the method is very effective, always locating a solution that fits the lens data well.\n",
    "\n",
    "The `name` and `path_prefix` below specify the path where results are stored in the output folder:  \n",
    "\n",
    " `/autolens_workspace/output/imaging/modeling/customize/mass_sie__source_sersic/phase__nested_sampling/\n",
    "    settings__grid_sub_2/dynesty__`."
   ]
  },
  {
   "cell_type": "code",
   "execution_count": null,
   "metadata": {
    "execution": {
     "iopub.execute_input": "2021-02-08T18:58:01.781518Z",
     "iopub.status.busy": "2021-02-08T18:58:01.781138Z",
     "iopub.status.idle": "2021-02-08T18:58:01.783004Z",
     "shell.execute_reply": "2021-02-08T18:58:01.783369Z"
    }
   },
   "outputs": [],
   "source": [
    "search = af.DynestyStatic(\n",
    "    path_prefix=path.join(\"imaging\", \"customize\", dataset_name),\n",
    "    name=\"phase_non_linear_searches\",\n",
    "    n_live_points=50,\n",
    ")"
   ]
  },
  {
   "cell_type": "markdown",
   "metadata": {},
   "source": [
    "__Phase__\n",
    "\n",
    "We can now combine the model, settings and search to create and run a phase, fitting our data with the lens model."
   ]
  },
  {
   "cell_type": "code",
   "execution_count": null,
   "metadata": {
    "execution": {
     "iopub.execute_input": "2021-02-08T18:58:01.791198Z",
     "iopub.status.busy": "2021-02-08T18:58:01.790588Z",
     "iopub.status.idle": "2021-02-08T18:58:02.940753Z",
     "shell.execute_reply": "2021-02-08T18:58:02.941064Z"
    }
   },
   "outputs": [],
   "source": [
    "phase = al.PhaseImaging(\n",
    "    search=search,\n",
    "    galaxies=af.CollectionPriorModel(lens=lens, source=source),\n",
    "    settings=settings,\n",
    ")\n",
    "\n",
    "result = phase.run(dataset=imaging, mask=mask)"
   ]
  },
  {
   "cell_type": "markdown",
   "metadata": {},
   "source": [
    "__Optimizer__\n",
    "\n",
    "Now, lets use a fast `NonLinearSearch` technique called an `optimizer`, which only seeks to maximize the log \n",
    "likelihood of the fit and does not attempt to infer the errors on the model parameters. Optimizers are useful when we\n",
    "want to find a lens model that fits the data well, but do not care about the full posterior of parameter space (e.g.\n",
    "the errors). \n",
    "\n",
    "we'll use the `particle swarm optimizer algorithm *PySwarms* (https://pyswarms.readthedocs.io/en/latest/index.html) \n",
    "using:\n",
    "\n",
    " - 30 particles to sample parameter space.\n",
    " - 100 iterations per particle, giving a total of 3000 iterations.\n",
    "    \n",
    "Performing the model-fit in 3000 iterations is significantly faster than the `Dynesty` fits perforomed in other \n",
    "example scripts, that often require > 20000 - 50000 iterations."
   ]
  },
  {
   "cell_type": "code",
   "execution_count": null,
   "metadata": {
    "execution": {
     "iopub.execute_input": "2021-02-08T18:58:02.944134Z",
     "iopub.status.busy": "2021-02-08T18:58:02.943742Z",
     "iopub.status.idle": "2021-02-08T18:58:02.945859Z",
     "shell.execute_reply": "2021-02-08T18:58:02.945487Z"
    }
   },
   "outputs": [],
   "source": [
    "search = af.PySwarmsLocal(\n",
    "    path_prefix=path.join(\"imaging\", \"customize\", dataset_name),\n",
    "    name=\"phase__non_linear_searches\",\n",
    "    n_particles=50,\n",
    "    iters=5000,\n",
    ")"
   ]
  },
  {
   "cell_type": "markdown",
   "metadata": {},
   "source": [
    "__Phase__\n",
    "\n",
    "We can now combine the model, settings and search to create and run a phase, fitting our data with the lens model.\n",
    "\n",
    "The `name` and `path_prefix` below specify the path where results are stored in the output folder:  \n",
    "\n",
    " `/autolens_workspace/output/imaging/modeling/customize`."
   ]
  },
  {
   "cell_type": "code",
   "execution_count": null,
   "metadata": {
    "execution": {
     "iopub.execute_input": "2021-02-08T18:58:02.951896Z",
     "iopub.status.busy": "2021-02-08T18:58:02.951510Z",
     "iopub.status.idle": "2021-02-08T19:36:31.936784Z",
     "shell.execute_reply": "2021-02-08T19:36:31.936464Z"
    }
   },
   "outputs": [],
   "source": [
    "phase = al.PhaseImaging(\n",
    "    search=search,\n",
    "    galaxies=af.CollectionPriorModel(lens=lens, source=source),\n",
    "    settings=settings,\n",
    ")\n",
    "\n",
    "result = phase.run(dataset=imaging, mask=mask)"
   ]
  },
  {
   "cell_type": "markdown",
   "metadata": {},
   "source": [
    "__MCMC__"
   ]
  },
  {
   "cell_type": "code",
   "execution_count": null,
   "metadata": {
    "execution": {
     "iopub.execute_input": "2021-02-08T19:36:31.939363Z",
     "iopub.status.busy": "2021-02-08T19:36:31.939035Z",
     "iopub.status.idle": "2021-02-08T19:36:31.940476Z",
     "shell.execute_reply": "2021-02-08T19:36:31.940737Z"
    }
   },
   "outputs": [],
   "source": [
    "search = af.Emcee(\n",
    "    path_prefix=path.join(\"imaging\", \"customize\", dataset_name),\n",
    "    name=\"phase_non_linear_searches\",\n",
    "    nwalkers=50,\n",
    "    nsteps=1000,\n",
    ")"
   ]
  },
  {
   "cell_type": "markdown",
   "metadata": {},
   "source": [
    "__Phase__\n",
    "\n",
    "We can now combine the model, settings and search to create and run a phase, fitting our data with the lens model.\n",
    "\n",
    "The `name` and `path_prefix` below specify the path where results are stored in the output folder:  \n",
    "\n",
    " `/autolens_workspace/output/imaging/modeling/customize`."
   ]
  },
  {
   "cell_type": "code",
   "execution_count": null,
   "metadata": {
    "execution": {
     "iopub.execute_input": "2021-02-08T19:36:31.943002Z",
     "iopub.status.busy": "2021-02-08T19:36:31.942674Z",
     "iopub.status.idle": "2021-02-08T19:36:31.944583Z",
     "shell.execute_reply": "2021-02-08T19:36:31.944857Z"
    }
   },
   "outputs": [],
   "source": [
    "phase = al.PhaseImaging(\n",
    "    search=search,\n",
    "    galaxies=af.CollectionPriorModel(lens=lens, source=source),\n",
    "    settings=settings,\n",
    ")\n",
    "\n"
   ]
  }
 ],
 "metadata": {
  "anaconda-cloud": {},
  "kernelspec": {
   "display_name": "Python 3",
   "language": "python",
   "name": "python3"
  },
  "language_info": {
   "codemirror_mode": {
    "name": "ipython",
    "version": 3
   },
   "file_extension": ".py",
   "mimetype": "text/x-python",
   "name": "python",
   "nbconvert_exporter": "python",
   "pygments_lexer": "ipython3",
   "version": "3.8.5"
  }
 },
 "nbformat": 4,
 "nbformat_minor": 4
}
