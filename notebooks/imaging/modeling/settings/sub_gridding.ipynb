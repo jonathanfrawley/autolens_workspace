{
 "cells": [
  {
   "cell_type": "markdown",
   "metadata": {},
   "source": [
    "This example demonstrates how to change the sub-gridding of the phase settings, which changes the resolution of the\n",
    "sub-grid that oversamples the `LightProfile` intensities and `MassProfile` deflection angle calculations.\n",
    "\n",
    "The benefits of this are:\n",
    "\n",
    " - A higher level of sub-gridding provides numerically more precise results.\n",
    "\n",
    "The drawbacks of this are:\n",
    "\n",
    "-   Longer calculations and higher memory usage."
   ]
  },
  {
   "cell_type": "code",
   "execution_count": null,
   "metadata": {
    "execution": {
     "iopub.execute_input": "2021-02-08T19:38:32.343929Z",
     "iopub.status.busy": "2021-02-08T19:38:32.343398Z",
     "iopub.status.idle": "2021-02-08T19:38:34.916946Z",
     "shell.execute_reply": "2021-02-08T19:38:34.916591Z"
    }
   },
   "outputs": [],
   "source": [
    "%matplotlib inline\n",
    "from pyprojroot import here\n",
    "workspace_path = str(here())\n",
    "%cd $workspace_path\n",
    "print(f\"Working Directory has been set to `{workspace_path}`\")\n",
    "\n",
    "from os import path\n",
    "import autofit as af\n",
    "import autolens as al\n",
    "import autolens.plot as aplt"
   ]
  },
  {
   "cell_type": "markdown",
   "metadata": {},
   "source": [
    "I`ll assume that you are familiar with the beginner example scripts work, so if any code doesn`t make sense familiarize\n",
    "yourself with those first!"
   ]
  },
  {
   "cell_type": "code",
   "execution_count": null,
   "metadata": {
    "execution": {
     "iopub.execute_input": "2021-02-08T19:38:34.920282Z",
     "iopub.status.busy": "2021-02-08T19:38:34.919957Z",
     "iopub.status.idle": "2021-02-08T19:38:36.014473Z",
     "shell.execute_reply": "2021-02-08T19:38:36.014747Z"
    }
   },
   "outputs": [],
   "source": [
    "dataset_name = \"mass_sie__source_sersic\"\n",
    "pixel_scales = 0.1\n",
    "\n",
    "dataset_path = path.join(\"dataset\", \"imaging\", \"no_lens_light\", dataset_name)\n",
    "\n",
    "imaging = al.Imaging.from_fits(\n",
    "    image_path=path.join(dataset_path, \"image.fits\"),\n",
    "    psf_path=path.join(dataset_path, \"psf.fits\"),\n",
    "    noise_map_path=path.join(dataset_path, \"noise_map.fits\"),\n",
    "    pixel_scales=pixel_scales,\n",
    ")\n",
    "\n",
    "mask = al.Mask2D.circular(\n",
    "    shape_native=imaging.shape_native, pixel_scales=imaging.pixel_scales, radius=3.0\n",
    ")\n",
    "\n",
    "imaging_plotter = aplt.ImagingPlotter(\n",
    "    imaging=imaging, visuals_2d=aplt.Visuals2D(mask=mask)\n",
    ")\n",
    "imaging_plotter.subplot_imaging()"
   ]
  },
  {
   "cell_type": "markdown",
   "metadata": {},
   "source": [
    "__Model__\n",
    "\n",
    "we'll fit a `EllipticalIsothermal` + `EllipticalSersic` model which we often fitted in the beginner example scripts."
   ]
  },
  {
   "cell_type": "code",
   "execution_count": null,
   "metadata": {
    "execution": {
     "iopub.execute_input": "2021-02-08T19:38:36.017479Z",
     "iopub.status.busy": "2021-02-08T19:38:36.017184Z",
     "iopub.status.idle": "2021-02-08T19:38:36.138124Z",
     "shell.execute_reply": "2021-02-08T19:38:36.138361Z"
    }
   },
   "outputs": [],
   "source": [
    "lens = al.GalaxyModel(redshift=0.5, mass=al.mp.EllipticalIsothermal)\n",
    "source = al.GalaxyModel(redshift=1.0, bulge=al.lp.EllipticalSersic)"
   ]
  },
  {
   "cell_type": "markdown",
   "metadata": {},
   "source": [
    "__Settings__\n",
    "\n",
    "Next, we specify the `SettingsPhaseImaging`, which describe how the model is fitted to the data in the log likelihood\n",
    "function. In this example, we specify:\n",
    "\n",
    " - A sub_size of 4, meaning we use a high resolution 4x4 sub-grid instead of the default 2x2 sub-grid."
   ]
  },
  {
   "cell_type": "code",
   "execution_count": null,
   "metadata": {
    "execution": {
     "iopub.execute_input": "2021-02-08T19:38:36.140753Z",
     "iopub.status.busy": "2021-02-08T19:38:36.140461Z",
     "iopub.status.idle": "2021-02-08T19:38:36.142294Z",
     "shell.execute_reply": "2021-02-08T19:38:36.141980Z"
    }
   },
   "outputs": [],
   "source": [
    "settings_masked_imaging = al.SettingsMaskedImaging(grid_class=al.Grid2D, sub_size=4)\n",
    "\n",
    "settings = al.SettingsPhaseImaging(settings_masked_imaging=settings_masked_imaging)"
   ]
  },
  {
   "cell_type": "markdown",
   "metadata": {},
   "source": [
    "__Search__\n",
    "\n",
    "we'll use the default `DynestyStatic` sampler we used in the beginner examples.\n",
    "\n",
    "The `name` and `path_prefix` below specify the path where results are stored in the output folder:  \n",
    "\n",
    " `/autolens_workspace/output/examples/settings/mass_sie__source_sersic/phase_sub`.\n",
    "\n",
    "However, because the `SettingsPhase` include a bin_up_factor, the output path is tagged to reflelct this, meaning the\n",
    "full output path is:\n",
    "\n",
    " `/autolens_workspace/output/examples/settings/mass_sie__source_sersic/phase_sub/settings__grid_sub_4`."
   ]
  },
  {
   "cell_type": "code",
   "execution_count": null,
   "metadata": {
    "execution": {
     "iopub.execute_input": "2021-02-08T19:38:36.144587Z",
     "iopub.status.busy": "2021-02-08T19:38:36.144293Z",
     "iopub.status.idle": "2021-02-08T19:38:36.146280Z",
     "shell.execute_reply": "2021-02-08T19:38:36.145962Z"
    }
   },
   "outputs": [],
   "source": [
    "search = af.DynestyStatic(\n",
    "    path_prefix=path.join(\"imaging\", \"settings\"), name=\"phase_sub\", n_live_points=50\n",
    ")"
   ]
  },
  {
   "cell_type": "markdown",
   "metadata": {},
   "source": [
    "__Phase__\n",
    "\n",
    "We can now combine the model, settings and search to create and run a phase, fitting our data with the lens model."
   ]
  },
  {
   "cell_type": "code",
   "execution_count": null,
   "metadata": {
    "execution": {
     "iopub.execute_input": "2021-02-08T19:38:36.151026Z",
     "iopub.status.busy": "2021-02-08T19:38:36.150681Z",
     "iopub.status.idle": "2021-02-08T19:38:37.163882Z",
     "shell.execute_reply": "2021-02-08T19:38:37.163558Z"
    }
   },
   "outputs": [],
   "source": [
    "phase = al.PhaseImaging(\n",
    "    search=search,\n",
    "    galaxies=af.CollectionPriorModel(lens=lens, source=source),\n",
    "    settings=settings,\n",
    ")\n",
    "\n",
    "phase.run(dataset=imaging, mask=mask)"
   ]
  },
  {
   "cell_type": "markdown",
   "metadata": {},
   "source": [
    "Finish."
   ]
  }
 ],
 "metadata": {
  "anaconda-cloud": {},
  "kernelspec": {
   "display_name": "Python 3",
   "language": "python",
   "name": "python3"
  },
  "language_info": {
   "codemirror_mode": {
    "name": "ipython",
    "version": 3
   },
   "file_extension": ".py",
   "mimetype": "text/x-python",
   "name": "python",
   "nbconvert_exporter": "python",
   "pygments_lexer": "ipython3",
   "version": "3.8.5"
  }
 },
 "nbformat": 4,
 "nbformat_minor": 4
}
