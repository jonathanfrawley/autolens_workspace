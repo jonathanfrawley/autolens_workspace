{
 "cells": [
  {
   "cell_type": "markdown",
   "metadata": {},
   "source": [
    "This example demonstrates how to use the binning up in the phase settings, where binning up fits a lower resolution\n",
    "binned up version of the dataset.\n",
    "\n",
    "The benefits of this are:\n",
    "\n",
    " - It can give significant gains in computational run-times.\n",
    "\n",
    "The drawbacks of this are:\n",
    "\n",
    " - The lower resolutioon data will constrain the lens model worse, giving larger errors or a biased model.\n",
    "\n",
    " - Binning up the Point Spread Function of the dataset will less accurately represent the optics of the observation,\n",
    "      again leading to inaccurate lens models with larger errors."
   ]
  },
  {
   "cell_type": "code",
   "execution_count": null,
   "metadata": {
    "execution": {
     "iopub.execute_input": "2021-02-08T19:38:01.543432Z",
     "iopub.status.busy": "2021-02-08T19:38:01.542951Z",
     "iopub.status.idle": "2021-02-08T19:38:04.064598Z",
     "shell.execute_reply": "2021-02-08T19:38:04.064892Z"
    }
   },
   "outputs": [],
   "source": [
    "%matplotlib inline\n",
    "from pyprojroot import here\n",
    "workspace_path = str(here())\n",
    "%cd $workspace_path\n",
    "print(f\"Working Directory has been set to `{workspace_path}`\")\n",
    "\n",
    "from os import path\n",
    "import autofit as af\n",
    "import autolens as al\n",
    "import autolens.plot as aplt"
   ]
  },
  {
   "cell_type": "markdown",
   "metadata": {},
   "source": [
    "I`ll assume that you are familiar with the beginner example scripts, so if any code doesn`t make sense familiarize\n",
    "yourself with those first!"
   ]
  },
  {
   "cell_type": "code",
   "execution_count": null,
   "metadata": {
    "execution": {
     "iopub.execute_input": "2021-02-08T19:38:04.068848Z",
     "iopub.status.busy": "2021-02-08T19:38:04.068454Z",
     "iopub.status.idle": "2021-02-08T19:38:05.160397Z",
     "shell.execute_reply": "2021-02-08T19:38:05.160655Z"
    }
   },
   "outputs": [],
   "source": [
    "dataset_name = \"mass_sie__source_sersic\"\n",
    "dataset_path = path.join(\"dataset\", \"imaging\", \"no_lens_light\", dataset_name)\n",
    "pixel_scales = 0.1\n",
    "\n",
    "imaging = al.Imaging.from_fits(\n",
    "    image_path=path.join(dataset_path, \"image.fits\"),\n",
    "    psf_path=path.join(dataset_path, \"psf.fits\"),\n",
    "    noise_map_path=path.join(dataset_path, \"noise_map.fits\"),\n",
    "    pixel_scales=pixel_scales,\n",
    ")\n",
    "\n",
    "mask = al.Mask2D.circular(\n",
    "    shape_native=imaging.shape_native, pixel_scales=imaging.pixel_scales, radius=3.0\n",
    ")\n",
    "\n",
    "imaging_plotter = aplt.ImagingPlotter(\n",
    "    imaging=imaging, visuals_2d=aplt.Visuals2D(mask=mask)\n",
    ")\n",
    "imaging_plotter.subplot_imaging()"
   ]
  },
  {
   "cell_type": "markdown",
   "metadata": {},
   "source": [
    "__Model__\n",
    "\n",
    "we'll fit a `EllipticalIsothermal` + `EllipticalSersic` model which we often fitted in the beginner example scripts."
   ]
  },
  {
   "cell_type": "code",
   "execution_count": null,
   "metadata": {
    "execution": {
     "iopub.execute_input": "2021-02-08T19:38:05.163611Z",
     "iopub.status.busy": "2021-02-08T19:38:05.163313Z",
     "iopub.status.idle": "2021-02-08T19:38:05.285327Z",
     "shell.execute_reply": "2021-02-08T19:38:05.284909Z"
    }
   },
   "outputs": [],
   "source": [
    "lens = al.GalaxyModel(redshift=0.5, mass=al.mp.EllipticalIsothermal)\n",
    "source = al.GalaxyModel(redshift=1.0, bulge=al.lp.EllipticalSersic)"
   ]
  },
  {
   "cell_type": "markdown",
   "metadata": {},
   "source": [
    "__Settings__\n",
    "\n",
    "Next, we specify the `SettingsPhaseImaging`, which describe how the model is fitted to the data in the log likelihood\n",
    "function. In this example, we specify:\n",
    " \n",
    " - A bin_up_factor of 2, meaning the dataset is binned up from a resolution of 0.1\" per pixel to a resolution \n",
    "      of 0.2\" per pixel before we perform the model-fit."
   ]
  },
  {
   "cell_type": "code",
   "execution_count": null,
   "metadata": {
    "execution": {
     "iopub.execute_input": "2021-02-08T19:38:05.287833Z",
     "iopub.status.busy": "2021-02-08T19:38:05.287534Z",
     "iopub.status.idle": "2021-02-08T19:38:05.289113Z",
     "shell.execute_reply": "2021-02-08T19:38:05.289334Z"
    }
   },
   "outputs": [],
   "source": [
    "settings_masked_imaging = al.SettingsMaskedImaging(bin_up_factor=2)\n",
    "\n",
    "settings = al.SettingsPhaseImaging(settings_masked_imaging=settings_masked_imaging)"
   ]
  },
  {
   "cell_type": "markdown",
   "metadata": {},
   "source": [
    "__Search__\n",
    "\n",
    "we'll use the default `DynestyStatic` sampler we used in the beginner examples.\n",
    "\n",
    "The `name` and `path_prefix` below specify the path where results are stored in the output folder:  \n",
    "\n",
    " `/autolens_workspace/output/examples/settings/mass_sie__source_sersic/phase_binned_up`.\n",
    "\n",
    "However, because the `SettingsPhase` include a bin_up_factor, the output path is tagged to reflelct this, meaning the\n",
    "full output path is:\n",
    "\n",
    " `/autolens_workspace/output/examples/settings/mass_sie__source_sersic/phase_binned_up/settings__bin_up_2`."
   ]
  },
  {
   "cell_type": "code",
   "execution_count": null,
   "metadata": {
    "execution": {
     "iopub.execute_input": "2021-02-08T19:38:05.291737Z",
     "iopub.status.busy": "2021-02-08T19:38:05.291447Z",
     "iopub.status.idle": "2021-02-08T19:38:05.293759Z",
     "shell.execute_reply": "2021-02-08T19:38:05.293482Z"
    }
   },
   "outputs": [],
   "source": [
    "search = af.DynestyStatic(\n",
    "    path_prefix=path.join(\"imaging\", \"settings\"),\n",
    "    name=\"phase_binned_up\",\n",
    "    n_live_points=50,\n",
    ")"
   ]
  },
  {
   "cell_type": "markdown",
   "metadata": {},
   "source": [
    "__Phase__\n",
    "\n",
    "We can now combine the model, settings and search to create and run a phase, fitting our data with the lens model."
   ]
  },
  {
   "cell_type": "code",
   "execution_count": null,
   "metadata": {
    "execution": {
     "iopub.execute_input": "2021-02-08T19:38:05.298334Z",
     "iopub.status.busy": "2021-02-08T19:38:05.297975Z",
     "iopub.status.idle": "2021-02-08T19:38:06.285303Z",
     "shell.execute_reply": "2021-02-08T19:38:06.285629Z"
    }
   },
   "outputs": [],
   "source": [
    "phase = al.PhaseImaging(\n",
    "    search=search,\n",
    "    galaxies=af.CollectionPriorModel(lens=lens, source=source),\n",
    "    settings=settings,\n",
    ")\n",
    "\n",
    "phase.run(dataset=imaging, mask=mask)"
   ]
  },
  {
   "cell_type": "markdown",
   "metadata": {},
   "source": [
    "Finish."
   ]
  }
 ],
 "metadata": {
  "anaconda-cloud": {},
  "kernelspec": {
   "display_name": "Python 3",
   "language": "python",
   "name": "python3"
  },
  "language_info": {
   "codemirror_mode": {
    "name": "ipython",
    "version": 3
   },
   "file_extension": ".py",
   "mimetype": "text/x-python",
   "name": "python",
   "nbconvert_exporter": "python",
   "pygments_lexer": "ipython3",
   "version": "3.8.5"
  }
 },
 "nbformat": 4,
 "nbformat_minor": 4
}
