{
 "cells": [
  {
   "cell_type": "markdown",
   "metadata": {},
   "source": [
    "This example demonstrates how to use a signal-to-noise limits in the phase settings, which fits data where the\n",
    "noise-map is increased to cap the highest signal-to-noise value.\n",
    "\n",
    "The benefits of this are:\n",
    "\n",
    " - Model fitting may be subject to over-fitting the highest signal-to-noise regions of the image instead of\n",
    "      providing a global fit to the entire image. For example, if a lensed source has 4 really bright, compact, high\n",
    "      S/N images which are not fitted perfectly by the model, their high chi-squared contribution will drive the model\n",
    "      fit to place more light in those regions, ignoring the lensed source's lower S/N more extended arcs. Limiting the\n",
    "      S/N of these high S/N regions will reduce over-fitting. The same logic applies for foreground lens light\n",
    "      subtractions which are not perfect andn leave large chi-squared residuals.\n",
    "\n",
    "      To learn more about this over-fitting problem, checkout chapter 5 of the `HowToLens` lecture series.\n",
    "\n",
    " - If the model-fit has extremely large chi-squared values due to the high S/N of the dataset. The non-linear\n",
    "      search will take a long time exploring this `extreme` parameter space. In the early phases of a pipeline this\n",
    "      often isn't necessary, therefore a signal-to-noise limit can reduce the time an analysis takes to converge.\n",
    "\n",
    "The downsides of this are:\n",
    "\n",
    " - Reducing the S/N of you data may significantly increase the errors of the lens model that you infer.\n",
    "\n",
    " - The noise-map of your data will no longer reflect the true noisy properties of the data, which could bias the\n",
    "      lens model inferred."
   ]
  },
  {
   "cell_type": "code",
   "execution_count": null,
   "metadata": {
    "execution": {
     "iopub.execute_input": "2021-02-08T19:38:23.989002Z",
     "iopub.status.busy": "2021-02-08T19:38:23.988541Z",
     "iopub.status.idle": "2021-02-08T19:38:26.850014Z",
     "shell.execute_reply": "2021-02-08T19:38:26.849615Z"
    }
   },
   "outputs": [],
   "source": [
    "%matplotlib inline\n",
    "from pyprojroot import here\n",
    "workspace_path = str(here())\n",
    "%cd $workspace_path\n",
    "print(f\"Working Directory has been set to `{workspace_path}`\")\n",
    "\n",
    "from os import path\n",
    "import autofit as af\n",
    "import autolens as al\n",
    "import autolens.plot as aplt"
   ]
  },
  {
   "cell_type": "markdown",
   "metadata": {},
   "source": [
    "I`ll assume that you are familiar with the beginner example scripts work, so if any code doesn`t make sense familiarize\n",
    "yourself with those first!"
   ]
  },
  {
   "cell_type": "code",
   "execution_count": null,
   "metadata": {
    "execution": {
     "iopub.execute_input": "2021-02-08T19:38:26.853701Z",
     "iopub.status.busy": "2021-02-08T19:38:26.853381Z",
     "iopub.status.idle": "2021-02-08T19:38:27.957346Z",
     "shell.execute_reply": "2021-02-08T19:38:27.957635Z"
    }
   },
   "outputs": [],
   "source": [
    "dataset_name = \"mass_sie__source_sersic\"\n",
    "pixel_scales = 0.1\n",
    "\n",
    "dataset_path = path.join(\"dataset\", \"imaging\", \"no_lens_light\", dataset_name)\n",
    "\n",
    "imaging = al.Imaging.from_fits(\n",
    "    image_path=path.join(dataset_path, \"image.fits\"),\n",
    "    psf_path=path.join(dataset_path, \"psf.fits\"),\n",
    "    noise_map_path=path.join(dataset_path, \"noise_map.fits\"),\n",
    "    pixel_scales=pixel_scales,\n",
    ")\n",
    "\n",
    "mask = al.Mask2D.circular(\n",
    "    shape_native=imaging.shape_native, pixel_scales=imaging.pixel_scales, radius=3.0\n",
    ")\n",
    "\n",
    "imaging_plotter = aplt.ImagingPlotter(\n",
    "    imaging=imaging, visuals_2d=aplt.Visuals2D(mask=mask)\n",
    ")\n",
    "imaging_plotter.subplot_imaging()"
   ]
  },
  {
   "cell_type": "markdown",
   "metadata": {},
   "source": [
    "__Model__\n",
    "\n",
    "we'll fit a `EllipticalIsothermal` + `EllipticalSersic` model which we often fitted in the beginner example scripts."
   ]
  },
  {
   "cell_type": "code",
   "execution_count": null,
   "metadata": {
    "execution": {
     "iopub.execute_input": "2021-02-08T19:38:27.960769Z",
     "iopub.status.busy": "2021-02-08T19:38:27.960337Z",
     "iopub.status.idle": "2021-02-08T19:38:28.089181Z",
     "shell.execute_reply": "2021-02-08T19:38:28.089445Z"
    }
   },
   "outputs": [],
   "source": [
    "lens = al.GalaxyModel(redshift=0.5, mass=al.mp.EllipticalIsothermal)\n",
    "source = al.GalaxyModel(redshift=1.0, bulge=al.lp.EllipticalSersic)"
   ]
  },
  {
   "cell_type": "markdown",
   "metadata": {},
   "source": [
    "__Settings__\n",
    "\n",
    "Next, we specify the `SettingsPhaseImaging`, which describe how the model is fitted to the data in the log likelihood\n",
    "function. In this example, we specify:\n",
    "\n",
    " - A signal_to_noise_limit of 10.0, which increases the noise values in the noise-map such that no pixel has a S/N\n",
    "      above 10.0."
   ]
  },
  {
   "cell_type": "code",
   "execution_count": null,
   "metadata": {
    "execution": {
     "iopub.execute_input": "2021-02-08T19:38:28.092455Z",
     "iopub.status.busy": "2021-02-08T19:38:28.092150Z",
     "iopub.status.idle": "2021-02-08T19:38:28.094161Z",
     "shell.execute_reply": "2021-02-08T19:38:28.093843Z"
    }
   },
   "outputs": [],
   "source": [
    "settings_masked_imaging = al.SettingsMaskedImaging(signal_to_noise_limit=10.0)\n",
    "\n",
    "settings = al.SettingsPhaseImaging(settings_masked_imaging=settings_masked_imaging)"
   ]
  },
  {
   "cell_type": "markdown",
   "metadata": {},
   "source": [
    "__Search__\n",
    "\n",
    "we'll use the default `DynestyStatic` sampler we used in the beginner examples.\n",
    "\n",
    "The `name` and `path_prefix` below specify the path where results are stored in the output folder:  \n",
    "\n",
    " `/autolens_workspace/output/examples/settings/mass_sie__source_sersic/phase_signal_to_noise_limit`.\n",
    "\n",
    "However, because the `SettingsPhase` include a signal_to_noise_limit, the output path is tagged to reflelct this, \n",
    "meaning the full output path is:\n",
    "\n",
    " `/autolens_workspace/output/examples/settings/mass_sie__source_sersic/phase_signal_to_noise_limit/settings__snr_10`."
   ]
  },
  {
   "cell_type": "code",
   "execution_count": null,
   "metadata": {
    "execution": {
     "iopub.execute_input": "2021-02-08T19:38:28.096817Z",
     "iopub.status.busy": "2021-02-08T19:38:28.096517Z",
     "iopub.status.idle": "2021-02-08T19:38:28.099141Z",
     "shell.execute_reply": "2021-02-08T19:38:28.098707Z"
    }
   },
   "outputs": [],
   "source": [
    "search = af.DynestyStatic(\n",
    "    path_prefix=path.join(\"imaging\", \"settings\"),\n",
    "    name=\"phase_signal_to_noise_limit\",\n",
    "    n_live_points=50,\n",
    ")"
   ]
  },
  {
   "cell_type": "markdown",
   "metadata": {},
   "source": [
    "__Phase__\n",
    "\n",
    "We can now combine the model, settings and search to create and run a phase, fitting our data with the lens model."
   ]
  },
  {
   "cell_type": "code",
   "execution_count": null,
   "metadata": {
    "execution": {
     "iopub.execute_input": "2021-02-08T19:38:28.105330Z",
     "iopub.status.busy": "2021-02-08T19:38:28.104905Z",
     "iopub.status.idle": "2021-02-08T19:38:29.202898Z",
     "shell.execute_reply": "2021-02-08T19:38:29.202550Z"
    }
   },
   "outputs": [],
   "source": [
    "phase = al.PhaseImaging(\n",
    "    search=search,\n",
    "    galaxies=af.CollectionPriorModel(lens=lens, source=source),\n",
    "    settings=settings,\n",
    ")\n",
    "\n",
    "phase.run(dataset=imaging, mask=mask)"
   ]
  },
  {
   "cell_type": "markdown",
   "metadata": {},
   "source": [
    "Finish."
   ]
  }
 ],
 "metadata": {
  "anaconda-cloud": {},
  "kernelspec": {
   "display_name": "Python 3",
   "language": "python",
   "name": "python3"
  },
  "language_info": {
   "codemirror_mode": {
    "name": "ipython",
    "version": 3
   },
   "file_extension": ".py",
   "mimetype": "text/x-python",
   "name": "python",
   "nbconvert_exporter": "python",
   "pygments_lexer": "ipython3",
   "version": "3.8.5"
  }
 },
 "nbformat": 4,
 "nbformat_minor": 4
}
