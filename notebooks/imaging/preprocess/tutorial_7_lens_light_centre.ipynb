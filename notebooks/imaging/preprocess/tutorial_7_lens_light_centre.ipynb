{
 "cells": [
  {
   "cell_type": "markdown",
   "metadata": {},
   "source": [
    "__Preprocess 7: Lens Light Centre (Optional)__\n",
    "\n",
    "In this tool we mark the lens light centre(s) of a strong lens(es), which can be used as fixed values for the lens\n",
    "light and mass models in a pipeline.\n",
    "\n",
    "The benefit of doing this is a reduction in the number of free parameters fitted for as well as the removal of\n",
    "systematic solutions which place the lens mass model unrealistically far from its true centre. The `advanced` pipelines\n",
    "are built to use this input centres in early phases, but remove it in later phases one an accurate lens model has\n",
    "been inffered.\n",
    "\n",
    "If you create a light_centre for your dataset, you must also update your runner to use them by loading them and\n",
    "passing them to the pipeline`s make function. See the `advanced` pipelines for pipelines with these centre inputs.\n",
    "\n",
    "Lens light centres are optional, if you struggling to get PyAutoLens to infer a good model for your dataset and you\n",
    "have not tried using the lens light centres as a fixed centre for your mass model I recommend that you do."
   ]
  },
  {
   "cell_type": "code",
   "execution_count": 1,
   "metadata": {
    "execution": {
     "iopub.execute_input": "2021-02-08T18:56:18.118659Z",
     "iopub.status.busy": "2021-02-08T18:56:18.118225Z",
     "iopub.status.idle": "2021-02-08T18:56:21.103016Z",
     "shell.execute_reply": "2021-02-08T18:56:21.102566Z"
    }
   },
   "outputs": [
    {
     "name": "stdout",
     "output_type": "stream",
     "text": [
      "/mnt/c/Users/Jammy/Code/PyAuto/autolens_workspace\n",
      "Working Directory has been set to `/mnt/c/Users/Jammy/Code/PyAuto/autolens_workspace`\n"
     ]
    }
   ],
   "source": [
    "%matplotlib inline\n",
    "from pyprojroot import here\n",
    "workspace_path = str(here())\n",
    "%cd $workspace_path\n",
    "print(f\"Working Directory has been set to `{workspace_path}`\")\n",
    "\n",
    "#%matplotlib inline\n",
    "from os import path\n",
    "import autolens as al\n",
    "import autolens.plot as aplt"
   ]
  },
  {
   "cell_type": "markdown",
   "metadata": {},
   "source": [
    "The path where the lens light centre is output, which is `dataset/imaging/no_lens_light/mass_sie__source_sersic`."
   ]
  },
  {
   "cell_type": "code",
   "execution_count": 2,
   "metadata": {
    "execution": {
     "iopub.execute_input": "2021-02-08T18:56:21.105974Z",
     "iopub.status.busy": "2021-02-08T18:56:21.105607Z",
     "iopub.status.idle": "2021-02-08T18:56:21.107137Z",
     "shell.execute_reply": "2021-02-08T18:56:21.107453Z"
    }
   },
   "outputs": [],
   "source": [
    "dataset_type = \"imaging\"\n",
    "dataset_label = \"with_lens_light\"\n",
    "dataset_name = \"light_sersic__mass_sie__source_sersic\"\n",
    "dataset_path = path.join(\"dataset\", dataset_type, dataset_label, dataset_name)"
   ]
  },
  {
   "cell_type": "markdown",
   "metadata": {},
   "source": [
    "If you use this tool for your own dataset, you *must* double check this pixel scale is correct!"
   ]
  },
  {
   "cell_type": "code",
   "execution_count": 3,
   "metadata": {
    "execution": {
     "iopub.execute_input": "2021-02-08T18:56:21.110224Z",
     "iopub.status.busy": "2021-02-08T18:56:21.109832Z",
     "iopub.status.idle": "2021-02-08T18:56:21.112512Z",
     "shell.execute_reply": "2021-02-08T18:56:21.112194Z"
    }
   },
   "outputs": [],
   "source": [
    "pixel_scales = 0.1"
   ]
  },
  {
   "cell_type": "markdown",
   "metadata": {},
   "source": [
    "First, load the `Imaging` dataset, so that the lens light centres can be plotted over the strong lens image."
   ]
  },
  {
   "cell_type": "code",
   "execution_count": 4,
   "metadata": {
    "execution": {
     "iopub.execute_input": "2021-02-08T18:56:21.115113Z",
     "iopub.status.busy": "2021-02-08T18:56:21.114753Z",
     "iopub.status.idle": "2021-02-08T18:56:21.217509Z",
     "shell.execute_reply": "2021-02-08T18:56:21.217799Z"
    }
   },
   "outputs": [],
   "source": [
    "image = al.Array2D.from_fits(\n",
    "    file_path=path.join(dataset_path, \"image.fits\"), pixel_scales=pixel_scales\n",
    ")"
   ]
  },
  {
   "cell_type": "markdown",
   "metadata": {},
   "source": [
    "Now, create a lens light centre, which is a Coordinate object of (y,x) values."
   ]
  },
  {
   "cell_type": "code",
   "execution_count": 5,
   "metadata": {
    "execution": {
     "iopub.execute_input": "2021-02-08T18:56:21.220660Z",
     "iopub.status.busy": "2021-02-08T18:56:21.220321Z",
     "iopub.status.idle": "2021-02-08T18:56:21.222595Z",
     "shell.execute_reply": "2021-02-08T18:56:21.222197Z"
    }
   },
   "outputs": [],
   "source": [
    "light_centre = al.Grid2DIrregular(grid=[(0.0, 0.0)])"
   ]
  },
  {
   "cell_type": "markdown",
   "metadata": {},
   "source": [
    "Now lets plot the image and lens light centre, so we can check that the centre overlaps the lens light."
   ]
  },
  {
   "cell_type": "code",
   "execution_count": 6,
   "metadata": {
    "execution": {
     "iopub.execute_input": "2021-02-08T18:56:21.225924Z",
     "iopub.status.busy": "2021-02-08T18:56:21.225507Z",
     "iopub.status.idle": "2021-02-08T18:56:21.424534Z",
     "shell.execute_reply": "2021-02-08T18:56:21.424798Z"
    }
   },
   "outputs": [
    {
     "data": {
      "image/png": "[encoded data removed]",
      "text/plain": [
       "<Figure size 504x504 with 2 Axes>"
      ]
     },
     "metadata": {
      "needs_background": "light"
     },
     "output_type": "display_data"
    }
   ],
   "source": [
    "mat_plot_2d = aplt.MatPlot2D()\n",
    "visuals_2d = aplt.Visuals2D(light_profile_centres=light_centre)\n",
    "\n",
    "array_plotter = aplt.Array2DPlotter(\n",
    "    array=image, visuals_2d=visuals_2d, mat_plot_2d=mat_plot_2d\n",
    ")\n",
    "array_plotter.figure()"
   ]
  },
  {
   "cell_type": "markdown",
   "metadata": {},
   "source": [
    "Now we`re happy with the lens light centre(s), lets output them to the dataset folder of the lens, so that we can \n",
    "load them from a .json file in our pipelines!"
   ]
  },
  {
   "cell_type": "code",
   "execution_count": 7,
   "metadata": {
    "execution": {
     "iopub.execute_input": "2021-02-08T18:56:21.427401Z",
     "iopub.status.busy": "2021-02-08T18:56:21.427046Z",
     "iopub.status.idle": "2021-02-08T18:56:21.430679Z",
     "shell.execute_reply": "2021-02-08T18:56:21.430306Z"
    }
   },
   "outputs": [],
   "source": [
    "light_centre.output_to_json(\n",
    "    file_path=path.join(dataset_path, \"light_centre.json\"), overwrite=True\n",
    ")"
   ]
  },
  {
   "cell_type": "markdown",
   "metadata": {},
   "source": [
    "The workspace also includes a GUI for drawing lens light centres, which can be found at \n",
    "`autolens_workspace/notebooks/preprocess/imaging/gui/light_centres.py`. This tools allows you `click` on the image where an \n",
    "image of the lensed source is, and it will use the brightest pixel within a 5x5 box of pixels to select the coordinate."
   ]
  }
 ],
 "metadata": {
  "anaconda-cloud": {},
  "kernelspec": {
   "display_name": "Python 3",
   "language": "python",
   "name": "python3"
  },
  "language_info": {
   "codemirror_mode": {
    "name": "ipython",
    "version": 3
   },
   "file_extension": ".py",
   "mimetype": "text/x-python",
   "name": "python",
   "nbconvert_exporter": "python",
   "pygments_lexer": "ipython3",
   "version": "3.8.5"
  }
 },
 "nbformat": 4,
 "nbformat_minor": 4
}
