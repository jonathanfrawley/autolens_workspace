{
 "cells": [
  {
   "cell_type": "markdown",
   "metadata": {},
   "source": [
    "__Pipelines__\n",
    "\n",
    "This pipeline runner loads a strong lens dataset and analyses it using a lens\n",
    "modeling pipeline.\n",
    "\n",
    "Using a pipeline composed of five phases this runner fits `Imaging` of a strong lens system, where in the final phase\n",
    "of the pipeline:\n",
    "\n",
    " - The lens galaxy's light is modeled parametrically as an `EllipticalSersic` and `EllipticalExponential`.\n",
    " - The lens galaxy's total mass distribution is modeled as an `EllipticalIsothermal`.\n",
    " - The source galaxy is modeled using an `Inversion`.\n",
    "\n",
    "This uses the pipeline (Check it out full description of the pipeline):\n",
    "\n",
    " `autolens_workspace/imaging/modeling/pipelines/with_lens_light/pipelines/light_parametric_disk__mass_sie__source_inversion.py`."
   ]
  },
  {
   "cell_type": "code",
   "execution_count": null,
   "metadata": {
    "execution": {
     "iopub.execute_input": "2021-02-08T19:40:05.042961Z",
     "iopub.status.busy": "2021-02-08T19:40:05.042537Z",
     "iopub.status.idle": "2021-02-08T19:40:07.876720Z",
     "shell.execute_reply": "2021-02-08T19:40:07.877015Z"
    }
   },
   "outputs": [],
   "source": [
    "%matplotlib inline\n",
    "from pyprojroot import here\n",
    "workspace_path = str(here())\n",
    "%cd $workspace_path\n",
    "print(f\"Working Directory has been set to `{workspace_path}`\")\n",
    "\n",
    "from os import path\n",
    "import autolens as al\n",
    "import autolens.plot as aplt\n",
    "\n",
    "dataset_name = \"light_sersic_exp__mass_sie__source_sersic\"\n",
    "pixel_scales = 0.1\n",
    "\n",
    "dataset_path = path.join(\"dataset\", \"imaging\", \"with_lens_light\", dataset_name)"
   ]
  },
  {
   "cell_type": "markdown",
   "metadata": {},
   "source": [
    "Using the dataset path, load the data (image, noise-map, PSF) as an `Imaging` object from .fits files."
   ]
  },
  {
   "cell_type": "code",
   "execution_count": null,
   "metadata": {
    "execution": {
     "iopub.execute_input": "2021-02-08T19:40:07.879766Z",
     "iopub.status.busy": "2021-02-08T19:40:07.879431Z",
     "iopub.status.idle": "2021-02-08T19:40:07.967389Z",
     "shell.execute_reply": "2021-02-08T19:40:07.967097Z"
    }
   },
   "outputs": [],
   "source": [
    "imaging = al.Imaging.from_fits(\n",
    "    image_path=path.join(dataset_path, \"image.fits\"),\n",
    "    psf_path=path.join(dataset_path, \"psf.fits\"),\n",
    "    noise_map_path=path.join(dataset_path, \"noise_map.fits\"),\n",
    "    pixel_scales=pixel_scales,\n",
    ")"
   ]
  },
  {
   "cell_type": "markdown",
   "metadata": {},
   "source": [
    "Next, we create the mask we'll fit this data-set with."
   ]
  },
  {
   "cell_type": "code",
   "execution_count": null,
   "metadata": {
    "execution": {
     "iopub.execute_input": "2021-02-08T19:40:07.970166Z",
     "iopub.status.busy": "2021-02-08T19:40:07.969860Z",
     "iopub.status.idle": "2021-02-08T19:40:07.974693Z",
     "shell.execute_reply": "2021-02-08T19:40:07.974384Z"
    }
   },
   "outputs": [],
   "source": [
    "mask = al.Mask2D.circular(\n",
    "    shape_native=imaging.shape_native, pixel_scales=imaging.pixel_scales, radius=3.0\n",
    ")"
   ]
  },
  {
   "cell_type": "markdown",
   "metadata": {},
   "source": [
    "Make a quick subplot to make sure the data looks as we expect."
   ]
  },
  {
   "cell_type": "code",
   "execution_count": null,
   "metadata": {
    "execution": {
     "iopub.execute_input": "2021-02-08T19:40:07.977929Z",
     "iopub.status.busy": "2021-02-08T19:40:07.977609Z",
     "iopub.status.idle": "2021-02-08T19:40:08.945292Z",
     "shell.execute_reply": "2021-02-08T19:40:08.945544Z"
    }
   },
   "outputs": [],
   "source": [
    "imaging_plotter = aplt.ImagingPlotter(\n",
    "    imaging=imaging, visuals_2d=aplt.Visuals2D(mask=mask)\n",
    ")\n",
    "imaging_plotter.subplot_imaging()"
   ]
  },
  {
   "cell_type": "markdown",
   "metadata": {},
   "source": [
    "__Settings__\n",
    "\n",
    "The `SettingsPhaseImaging` describe how the model is fitted to the data in the log likelihood function.\n",
    "\n",
    "These settings are used and described throughout the `autolens_workspace/notebooks/imaging/modeling` example scripts, with a \n",
    "complete description of all settings given in `autolens_workspace/notebooks/imaging/modeling/customize/settings.py`.\n",
    "\n",
    "The settings chosen here are applied to all phases in the pipeline."
   ]
  },
  {
   "cell_type": "code",
   "execution_count": null,
   "metadata": {
    "execution": {
     "iopub.execute_input": "2021-02-08T19:40:08.948237Z",
     "iopub.status.busy": "2021-02-08T19:40:08.947920Z",
     "iopub.status.idle": "2021-02-08T19:40:08.949860Z",
     "shell.execute_reply": "2021-02-08T19:40:08.949604Z"
    }
   },
   "outputs": [],
   "source": [
    "settings_masked_imaging = al.SettingsMaskedImaging(grid_class=al.Grid2D, sub_size=2)"
   ]
  },
  {
   "cell_type": "markdown",
   "metadata": {},
   "source": [
    "`Inversion`'s may infer unphysical solution where the source reconstruction is a demagnified reconstruction of the \n",
    "lensed source (see **HowToLens** chapter 4). \n",
    "\n",
    "To prevent this, auto-positioning is used, which uses the lens mass model of earlier phases to automatically set \n",
    "positions and a threshold that resample inaccurate mass models (see `notebooks/imaging/modeling/positions.py`).\n",
    "\n",
    "The `auto_positions_factor` is a factor that the threshold of the inferred positions using the previous mass model are \n",
    "multiplied by to set the threshold in the next phase. The *auto_positions_minimum_threshold* is the minimum value this\n",
    "threshold can go to, even after multiplication."
   ]
  },
  {
   "cell_type": "code",
   "execution_count": null,
   "metadata": {
    "execution": {
     "iopub.execute_input": "2021-02-08T19:40:08.952353Z",
     "iopub.status.busy": "2021-02-08T19:40:08.952046Z",
     "iopub.status.idle": "2021-02-08T19:40:08.953993Z",
     "shell.execute_reply": "2021-02-08T19:40:08.953668Z"
    }
   },
   "outputs": [],
   "source": [
    "settings_lens = al.SettingsLens(\n",
    "    auto_positions_factor=3.0, auto_positions_minimum_threshold=0.8\n",
    ")\n",
    "\n",
    "settings = al.SettingsPhaseImaging(\n",
    "    settings_masked_imaging=settings_masked_imaging, settings_lens=settings_lens\n",
    ")"
   ]
  },
  {
   "cell_type": "markdown",
   "metadata": {},
   "source": [
    "__Pipeline_Setup__:\n",
    "\n",
    "Pipelines use `Setup` objects to customize how different aspects of the model are fitted. \n",
    "\n",
    "First, we create a `SetupLightParametric` which customizes:\n",
    "\n",
    " - The `LightProfile`'s which fit different components of the lens light, such as its `bulge` and `disk`.\n",
    " - The alignment of these components, for example if the `bulge` and `disk` centres are aligned.\n",
    " - If the centre of the lens light profile is manually input and fixed for modeling.\n",
    " \n",
    "In this example we fit the lens light as two components, a `bulge` represented as an `EllipticalSersic` and a\n",
    "`disk` as an `EllipticalExpoonential`.. We do not fix its centre to an input value. We have included options \n",
    "of `SetupLightParametric` with input values of `None`, illustrating how it could be edited to fit different \n",
    "models."
   ]
  },
  {
   "cell_type": "code",
   "execution_count": null,
   "metadata": {
    "execution": {
     "iopub.execute_input": "2021-02-08T19:40:08.956450Z",
     "iopub.status.busy": "2021-02-08T19:40:08.956136Z",
     "iopub.status.idle": "2021-02-08T19:40:09.089048Z",
     "shell.execute_reply": "2021-02-08T19:40:09.089281Z"
    }
   },
   "outputs": [],
   "source": [
    "setup_light = al.SetupLightParametric(\n",
    "    bulge_prior_model=al.lp.EllipticalSersic,\n",
    "    disk_prior_model=al.lp.EllipticalExponential,\n",
    "    envelope_prior_model=None,\n",
    "    align_bulge_disk_centre=False,\n",
    "    align_bulge_disk_elliptical_comps=False,\n",
    "    light_centre=None,\n",
    ")"
   ]
  },
  {
   "cell_type": "markdown",
   "metadata": {},
   "source": [
    "This pipeline also uses a `SetupMass`, which customizes:\n",
    "\n",
    " - The `MassProfile` used to fit the lens's total mass distribution.\n",
    " - If there is an `ExternalShear` in the mass model or not.\n",
    " - If the centre of the `MassProfile` is aligned with the centre of the `LightProfile`'s."
   ]
  },
  {
   "cell_type": "code",
   "execution_count": null,
   "metadata": {
    "execution": {
     "iopub.execute_input": "2021-02-08T19:40:09.091913Z",
     "iopub.status.busy": "2021-02-08T19:40:09.091618Z",
     "iopub.status.idle": "2021-02-08T19:40:09.151868Z",
     "shell.execute_reply": "2021-02-08T19:40:09.151538Z"
    }
   },
   "outputs": [],
   "source": [
    "setup_mass = al.SetupMassTotal(\n",
    "    mass_prior_model=al.mp.EllipticalPowerLaw,\n",
    "    with_shear=True,\n",
    "    align_bulge_mass_centre=False,\n",
    ")"
   ]
  },
  {
   "cell_type": "markdown",
   "metadata": {},
   "source": [
    "Next, we create a `SetupSourceInversion` which customizes:\n",
    "\n",
    " - The `Pixelization` used by the `Inversion` in phase 3 of the pipeline.\n",
    " - The `Regularization` scheme used by the `Inversion` in phase 3 of the pipeline."
   ]
  },
  {
   "cell_type": "code",
   "execution_count": null,
   "metadata": {
    "execution": {
     "iopub.execute_input": "2021-02-08T19:40:09.154229Z",
     "iopub.status.busy": "2021-02-08T19:40:09.153896Z",
     "iopub.status.idle": "2021-02-08T19:40:09.185059Z",
     "shell.execute_reply": "2021-02-08T19:40:09.184740Z"
    }
   },
   "outputs": [],
   "source": [
    "setup_source = al.SetupSourceInversion(\n",
    "    pixelization_prior_model=al.pix.VoronoiMagnification,\n",
    "    regularization_prior_model=al.reg.Constant,\n",
    ")"
   ]
  },
  {
   "cell_type": "markdown",
   "metadata": {},
   "source": [
    "_Pipeline Tagging_\n",
    "\n",
    "The `Setup` objects are input into a `SetupPipeline` object, which is passed into the pipeline and used to customize\n",
    "the analysis depending on the setup. This includes tagging the output path of a pipeline. For example, if `with_shear` \n",
    "is True, the pipeline`s output paths are `tagged` with the string `with_shear`.\n",
    "\n",
    "This means you can run the same pipeline on the same data twice (e.g. with and without shear) and the results will go\n",
    "to different output folders and thus not clash with one another!\n",
    "\n",
    "The `path_prefix` below specifies the path the pipeline results are written to, which is:\n",
    "\n",
    " `autolens_workspace/output/imaging/modeling/pipelines/with_lens_light/dataset_type/dataset_name` \n",
    " `autolens_workspace/output/imaging/modeling/pipelines/with_lens_light/light_sersic_exp__mass_sie__source_sersic/`\n",
    "\n",
    "\n",
    "The redshift of the lens and source galaxies are also input (see `notebooks/imaging/modeling/customize/redshift.py`) for a \n",
    "description of what inputting redshifts into **PyAutoLens** does."
   ]
  },
  {
   "cell_type": "code",
   "execution_count": null,
   "metadata": {
    "execution": {
     "iopub.execute_input": "2021-02-08T19:40:09.187515Z",
     "iopub.status.busy": "2021-02-08T19:40:09.187199Z",
     "iopub.status.idle": "2021-02-08T19:40:09.189859Z",
     "shell.execute_reply": "2021-02-08T19:40:09.190084Z"
    }
   },
   "outputs": [],
   "source": [
    "setup = al.SetupPipeline(\n",
    "    path_prefix=path.join(\"imaging\", \"pipelines\", \"with_lens_light\", dataset_name),\n",
    "    redshift_lens=0.5,\n",
    "    redshift_source=1.0,\n",
    "    setup_light=setup_light,\n",
    "    setup_mass=setup_mass,\n",
    "    setup_source=setup_source,\n",
    ")"
   ]
  },
  {
   "cell_type": "markdown",
   "metadata": {},
   "source": [
    "__Pipeline Creation__\n",
    "\n",
    "To create a pipeline we import it from the pipelines folder and run its `make_pipeline` function, inputting the \n",
    "`Setup` and `SettingsPhase` above."
   ]
  },
  {
   "cell_type": "code",
   "execution_count": null,
   "metadata": {
    "execution": {
     "iopub.execute_input": "2021-02-08T19:40:09.192277Z",
     "iopub.status.busy": "2021-02-08T19:40:09.191971Z",
     "iopub.status.idle": "2021-02-08T19:40:09.396843Z",
     "shell.execute_reply": "2021-02-08T19:40:09.396513Z"
    }
   },
   "outputs": [],
   "source": [
    "from pipelines import light_parametric__mass_total__source_inversion\n",
    "\n",
    "pipeline = light_parametric__mass_total__source_inversion.make_pipeline(\n",
    "    setup=setup, settings=settings\n",
    ")"
   ]
  },
  {
   "cell_type": "markdown",
   "metadata": {},
   "source": [
    "__Pipeline Run__\n",
    "\n",
    "Running a pipeline is the same as running a phase, we simply pass it our lens dataset and mask to its run function."
   ]
  },
  {
   "cell_type": "code",
   "execution_count": null,
   "metadata": {
    "execution": {
     "iopub.execute_input": "2021-02-08T19:40:09.399611Z",
     "iopub.status.busy": "2021-02-08T19:40:09.399208Z",
     "iopub.status.idle": "2021-02-08T19:40:19.609767Z",
     "shell.execute_reply": "2021-02-08T19:40:19.610025Z"
    }
   },
   "outputs": [],
   "source": [
    "pipeline.run(dataset=imaging, mask=mask)"
   ]
  },
  {
   "cell_type": "markdown",
   "metadata": {},
   "source": [
    "Finish."
   ]
  }
 ],
 "metadata": {
  "anaconda-cloud": {},
  "kernelspec": {
   "display_name": "Python 3",
   "language": "python",
   "name": "python3"
  },
  "language_info": {
   "codemirror_mode": {
    "name": "ipython",
    "version": 3
   },
   "file_extension": ".py",
   "mimetype": "text/x-python",
   "name": "python",
   "nbconvert_exporter": "python",
   "pygments_lexer": "ipython3",
   "version": "3.8.5"
  }
 },
 "nbformat": 4,
 "nbformat_minor": 4
}
