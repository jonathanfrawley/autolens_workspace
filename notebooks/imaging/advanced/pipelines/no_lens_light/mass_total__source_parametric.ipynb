{
 "cells": [
  {
   "cell_type": "markdown",
   "metadata": {},
   "source": [
    "__Pipelines__\n",
    "\n",
    "This pipeline runner loads a strong lens dataset and analyses it using a lens\n",
    "modeling pipeline.\n",
    "\n",
    "Using a pipeline composed of two phases this runner fits `Imaging` of a strong lens system, where in the final phase\n",
    "of the pipeline:\n",
    "\n",
    " - The lens galaxy's light is omitted from the data and model.\n",
    " - The lens galaxy's total mass distribution is modeled as an `EllipticalIsothermal`.\n",
    " - The source galaxy's two `LightProfile`'s are modeled as `EllipticalSersic``..\n",
    "\n",
    "This uses the pipeline (Check it out full description of the pipeline):\n",
    "\n",
    " `autolens_workspace/notebooks/advanced/pipelines/mass_power_law__source_parametric.py`."
   ]
  },
  {
   "cell_type": "code",
   "execution_count": null,
   "metadata": {
    "execution": {
     "iopub.execute_input": "2021-02-08T19:39:21.573681Z",
     "iopub.status.busy": "2021-02-08T19:39:21.573326Z",
     "iopub.status.idle": "2021-02-08T19:39:24.264595Z",
     "shell.execute_reply": "2021-02-08T19:39:24.264161Z"
    }
   },
   "outputs": [],
   "source": [
    "%matplotlib inline\n",
    "from pyprojroot import here\n",
    "workspace_path = str(here())\n",
    "%cd $workspace_path\n",
    "print(f\"Working Directory has been set to `{workspace_path}`\")\n",
    "\n",
    "from os import path\n",
    "import autolens as al\n",
    "import autolens.plot as aplt\n",
    "\n",
    "dataset_name = \"mass_sie__source_sersic\"\n",
    "pixel_scales = 0.1\n",
    "\n",
    "dataset_path = path.join(\"dataset\", \"imaging\", \"no_lens_light\", dataset_name)"
   ]
  },
  {
   "cell_type": "markdown",
   "metadata": {},
   "source": [
    "Using the dataset path, load the data (image, noise-map, PSF) as an `Imaging` object from .fits files."
   ]
  },
  {
   "cell_type": "code",
   "execution_count": null,
   "metadata": {
    "execution": {
     "iopub.execute_input": "2021-02-08T19:39:24.268158Z",
     "iopub.status.busy": "2021-02-08T19:39:24.267550Z",
     "iopub.status.idle": "2021-02-08T19:39:24.386039Z",
     "shell.execute_reply": "2021-02-08T19:39:24.386320Z"
    }
   },
   "outputs": [],
   "source": [
    "imaging = al.Imaging.from_fits(\n",
    "    image_path=path.join(dataset_path, \"image.fits\"),\n",
    "    psf_path=path.join(dataset_path, \"psf.fits\"),\n",
    "    noise_map_path=path.join(dataset_path, \"noise_map.fits\"),\n",
    "    pixel_scales=pixel_scales,\n",
    ")"
   ]
  },
  {
   "cell_type": "markdown",
   "metadata": {},
   "source": [
    "Next, we create the mask we'll fit this data-set with."
   ]
  },
  {
   "cell_type": "code",
   "execution_count": null,
   "metadata": {
    "execution": {
     "iopub.execute_input": "2021-02-08T19:39:24.389945Z",
     "iopub.status.busy": "2021-02-08T19:39:24.389505Z",
     "iopub.status.idle": "2021-02-08T19:39:24.395357Z",
     "shell.execute_reply": "2021-02-08T19:39:24.395063Z"
    }
   },
   "outputs": [],
   "source": [
    "mask = al.Mask2D.circular(\n",
    "    shape_native=imaging.shape_native, pixel_scales=imaging.pixel_scales, radius=3.4\n",
    ")"
   ]
  },
  {
   "cell_type": "markdown",
   "metadata": {},
   "source": [
    "Make a quick subplot to make sure the data looks as we expect."
   ]
  },
  {
   "cell_type": "code",
   "execution_count": null,
   "metadata": {
    "execution": {
     "iopub.execute_input": "2021-02-08T19:39:24.398415Z",
     "iopub.status.busy": "2021-02-08T19:39:24.398095Z",
     "iopub.status.idle": "2021-02-08T19:39:25.590666Z",
     "shell.execute_reply": "2021-02-08T19:39:25.591059Z"
    }
   },
   "outputs": [],
   "source": [
    "imaging_plotter = aplt.ImagingPlotter(\n",
    "    imaging=imaging, visuals_2d=aplt.Visuals2D(mask=mask)\n",
    ")\n",
    "imaging_plotter.subplot_imaging()"
   ]
  },
  {
   "cell_type": "markdown",
   "metadata": {},
   "source": [
    "__Settings__\n",
    "\n",
    "The `SettingsPhaseImaging` describe how the model is fitted to the data in the log likelihood function.\n",
    "\n",
    "These settings are used and described throughout the `autolens_workspace/notebooks/imaging/modeling` example scripts, with a \n",
    "complete description of all settings given in `autolens_workspace/notebooks/imaging/modeling/customize/settings.py`.\n",
    "\n",
    "The settings chosen here are applied to all phases in the pipeline."
   ]
  },
  {
   "cell_type": "code",
   "execution_count": null,
   "metadata": {
    "execution": {
     "iopub.execute_input": "2021-02-08T19:39:25.596124Z",
     "iopub.status.busy": "2021-02-08T19:39:25.595583Z",
     "iopub.status.idle": "2021-02-08T19:39:25.597504Z",
     "shell.execute_reply": "2021-02-08T19:39:25.597906Z"
    }
   },
   "outputs": [],
   "source": [
    "settings_masked_imaging = al.SettingsMaskedImaging(grid_class=al.Grid2D, sub_size=2)\n",
    "\n",
    "settings_lens = al.SettingsLens(auto_einstein_radius_factor=0.2)\n",
    "\n",
    "settings = al.SettingsPhaseImaging(\n",
    "    settings_masked_imaging=settings_masked_imaging, settings_lens=settings_lens\n",
    ")"
   ]
  },
  {
   "cell_type": "markdown",
   "metadata": {},
   "source": [
    "__Pipeline_Setup__:\n",
    "\n",
    "Pipelines use `Setup` objects to customize how different aspects of the model are fitted. \n",
    "\n",
    "First, we create a `SetupMassTotal`, which customizes:\n",
    "\n",
    " - The `MassProfile` used to fit the lens's total mass distribution.\n",
    " - If there is an `ExternalShear` in the mass model or not."
   ]
  },
  {
   "cell_type": "code",
   "execution_count": null,
   "metadata": {
    "execution": {
     "iopub.execute_input": "2021-02-08T19:39:25.602103Z",
     "iopub.status.busy": "2021-02-08T19:39:25.601549Z",
     "iopub.status.idle": "2021-02-08T19:39:25.674115Z",
     "shell.execute_reply": "2021-02-08T19:39:25.674400Z"
    }
   },
   "outputs": [],
   "source": [
    "setup_mass = al.SetupMassTotal(\n",
    "    mass_prior_model=al.mp.EllipticalPowerLaw, with_shear=True\n",
    ")"
   ]
  },
  {
   "cell_type": "markdown",
   "metadata": {},
   "source": [
    "Next, we create a `SetupSourceParametric` which customizes:\n",
    "\n",
    " - The `LightProfile`'s which fit different components of the source light, such as its `bulge` and `disk`.\n",
    " - The alignment of these components, for example if the `bulge` and `disk` centres are aligned.\n",
    " \n",
    "In this example we fit the source light as one component, a `bulge` represented as an `EllipticalSersic`. We have \n",
    "included options of `SetupSourceParametric` with input values of `None`, illustrating how it could be edited to fit different models."
   ]
  },
  {
   "cell_type": "code",
   "execution_count": null,
   "metadata": {
    "execution": {
     "iopub.execute_input": "2021-02-08T19:39:25.677573Z",
     "iopub.status.busy": "2021-02-08T19:39:25.677174Z",
     "iopub.status.idle": "2021-02-08T19:39:25.761996Z",
     "shell.execute_reply": "2021-02-08T19:39:25.762259Z"
    }
   },
   "outputs": [],
   "source": [
    "setup_source = al.SetupSourceParametric(\n",
    "    bulge_prior_model=al.lp.EllipticalSersic,\n",
    "    disk_prior_model=None,\n",
    "    envelope_prior_model=None,\n",
    "    align_bulge_disk_centre=False,\n",
    "    align_bulge_disk_elliptical_comps=False,\n",
    ")"
   ]
  },
  {
   "cell_type": "markdown",
   "metadata": {},
   "source": [
    "_Pipeline Tagging_\n",
    "\n",
    "The `Setup` objects are input into a `SetupPipeline` object, which is passed into the pipeline and used to customize\n",
    "the analysis depending on the setup. This includes tagging the output path of a pipeline. For example, if `with_shear` \n",
    "is True, the pipeline`s output paths are `tagged` with the string `with_shear`.\n",
    "\n",
    "This means you can run the same pipeline on the same data twice (e.g. with and without shear) and the results will go\n",
    "to different output folders and thus not clash with one another!\n",
    "\n",
    "The `path_prefix` below specifies the path the pipeline results are written to, which is:\n",
    "\n",
    " `autolens_workspace/output/imaging/modeling/pipelines/no_lens_light/dataset_type/dataset_name` \n",
    " `autolens_workspace/output/imaging/modeling/pipelines/no_lens_light/mass_sie__source_sersic/`\n",
    " \n",
    " The redshift of the lens and source galaxies are also input (see `notebooks/imaging/modeling/customize/redshift.py`) for a \n",
    "description of what inputting redshifts into **PyAutoLens** does."
   ]
  },
  {
   "cell_type": "code",
   "execution_count": null,
   "metadata": {
    "execution": {
     "iopub.execute_input": "2021-02-08T19:39:25.765948Z",
     "iopub.status.busy": "2021-02-08T19:39:25.765270Z",
     "iopub.status.idle": "2021-02-08T19:39:25.768494Z",
     "shell.execute_reply": "2021-02-08T19:39:25.768862Z"
    }
   },
   "outputs": [],
   "source": [
    "setup = al.SetupPipeline(\n",
    "    path_prefix=path.join(\"imaging\", \"pipelines\", \"no_lens_light\", dataset_name),\n",
    "    redshift_lens=0.5,\n",
    "    redshift_source=1.0,\n",
    "    setup_mass=setup_mass,\n",
    "    setup_source=setup_source,\n",
    ")"
   ]
  },
  {
   "cell_type": "markdown",
   "metadata": {},
   "source": [
    "__Pipeline Creation__\n",
    "\n",
    "To create a pipeline we import it from the pipelines folder and run its `make_pipeline` function, inputting the \n",
    "`Setup` and `SettingsPhase` above."
   ]
  },
  {
   "cell_type": "code",
   "execution_count": null,
   "metadata": {
    "execution": {
     "iopub.execute_input": "2021-02-08T19:39:25.772056Z",
     "iopub.status.busy": "2021-02-08T19:39:25.771704Z",
     "iopub.status.idle": "2021-02-08T19:39:25.944419Z",
     "shell.execute_reply": "2021-02-08T19:39:25.944724Z"
    }
   },
   "outputs": [],
   "source": [
    "from pipelines import mass_total__source_parametric\n",
    "\n",
    "pipeline = mass_total__source_parametric.make_pipeline(setup=setup, settings=settings)"
   ]
  },
  {
   "cell_type": "markdown",
   "metadata": {},
   "source": [
    "__Pipeline Run__\n",
    "\n",
    "Running a pipeline is the same as running a phase, we simply pass it our lens dataset and mask to its run function."
   ]
  },
  {
   "cell_type": "code",
   "execution_count": null,
   "metadata": {
    "execution": {
     "iopub.execute_input": "2021-02-08T19:39:25.947772Z",
     "iopub.status.busy": "2021-02-08T19:39:25.947382Z",
     "iopub.status.idle": "2021-02-08T19:39:29.219751Z",
     "shell.execute_reply": "2021-02-08T19:39:29.219420Z"
    }
   },
   "outputs": [],
   "source": [
    "pipeline.run(dataset=imaging, mask=mask)"
   ]
  },
  {
   "cell_type": "markdown",
   "metadata": {},
   "source": [
    "Finish."
   ]
  }
 ],
 "metadata": {
  "anaconda-cloud": {},
  "kernelspec": {
   "display_name": "Python 3",
   "language": "python",
   "name": "python3"
  },
  "language_info": {
   "codemirror_mode": {
    "name": "ipython",
    "version": 3
   },
   "file_extension": ".py",
   "mimetype": "text/x-python",
   "name": "python",
   "nbconvert_exporter": "python",
   "pygments_lexer": "ipython3",
   "version": "3.8.5"
  }
 },
 "nbformat": 4,
 "nbformat_minor": 4
}
