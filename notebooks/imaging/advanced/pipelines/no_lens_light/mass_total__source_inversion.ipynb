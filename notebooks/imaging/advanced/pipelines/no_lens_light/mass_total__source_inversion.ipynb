{
 "cells": [
  {
   "cell_type": "markdown",
   "metadata": {},
   "source": [
    "__Pipelines__\n",
    "\n",
    "This pipeline runner loads a strong lens dataset and analyses it using a lens\n",
    "modeling pipeline.\n",
    "\n",
    "Using a pipeline composed of three phases this runner fits `Imaging` of a strong lens system, where in the final phase\n",
    "of the pipeline:\n",
    ".\n",
    " - The lens galaxy's light is omitted from the data and model.\n",
    " - The lens galaxy's total mass distribution is modeled as an input total `MassProfile` (default=`EllipticalPowerLaw`).\n",
    " - The source galaxy is modeled using an `Inversion`.\n",
    "\n",
    "This uses the pipeline (Check it out full description of the pipeline):\n",
    "\n",
    " `autolens_workspace/notebooks/advanced/pipelines/mass_power_law__source_inversion.py`."
   ]
  },
  {
   "cell_type": "code",
   "execution_count": null,
   "metadata": {
    "execution": {
     "iopub.execute_input": "2021-02-08T19:38:51.187401Z",
     "iopub.status.busy": "2021-02-08T19:38:51.186964Z",
     "iopub.status.idle": "2021-02-08T19:38:53.814649Z",
     "shell.execute_reply": "2021-02-08T19:38:53.814937Z"
    }
   },
   "outputs": [],
   "source": [
    "%matplotlib inline\n",
    "from pyprojroot import here\n",
    "workspace_path = str(here())\n",
    "%cd $workspace_path\n",
    "print(f\"Working Directory has been set to `{workspace_path}`\")\n",
    "\n",
    "from os import path\n",
    "import autolens as al\n",
    "import autolens.plot as aplt\n",
    "\n",
    "dataset_name = \"mass_sie__source_sersic_x2\"\n",
    "pixel_scales = 0.1\n",
    "\n",
    "dataset_path = path.join(\"dataset\", \"imaging\", \"no_lens_light\", dataset_name)"
   ]
  },
  {
   "cell_type": "markdown",
   "metadata": {},
   "source": [
    "Using the dataset path, load the data (image, noise-map, PSF) as an `Imaging` object from .fits files."
   ]
  },
  {
   "cell_type": "code",
   "execution_count": null,
   "metadata": {
    "execution": {
     "iopub.execute_input": "2021-02-08T19:38:53.818116Z",
     "iopub.status.busy": "2021-02-08T19:38:53.817709Z",
     "iopub.status.idle": "2021-02-08T19:38:53.923665Z",
     "shell.execute_reply": "2021-02-08T19:38:53.923902Z"
    }
   },
   "outputs": [],
   "source": [
    "imaging = al.Imaging.from_fits(\n",
    "    image_path=path.join(dataset_path, \"image.fits\"),\n",
    "    psf_path=path.join(dataset_path, \"psf.fits\"),\n",
    "    noise_map_path=path.join(dataset_path, \"noise_map.fits\"),\n",
    "    pixel_scales=pixel_scales,\n",
    ")"
   ]
  },
  {
   "cell_type": "markdown",
   "metadata": {},
   "source": [
    "Next, we create the mask we'll fit this data-set with."
   ]
  },
  {
   "cell_type": "code",
   "execution_count": null,
   "metadata": {
    "execution": {
     "iopub.execute_input": "2021-02-08T19:38:53.926953Z",
     "iopub.status.busy": "2021-02-08T19:38:53.926641Z",
     "iopub.status.idle": "2021-02-08T19:38:53.931379Z",
     "shell.execute_reply": "2021-02-08T19:38:53.931721Z"
    }
   },
   "outputs": [],
   "source": [
    "mask = al.Mask2D.circular(\n",
    "    shape_native=imaging.shape_native, pixel_scales=imaging.pixel_scales, radius=3.0\n",
    ")"
   ]
  },
  {
   "cell_type": "markdown",
   "metadata": {},
   "source": [
    "Make a quick subplot to make sure the data looks as we expect."
   ]
  },
  {
   "cell_type": "code",
   "execution_count": null,
   "metadata": {
    "execution": {
     "iopub.execute_input": "2021-02-08T19:38:53.935879Z",
     "iopub.status.busy": "2021-02-08T19:38:53.935550Z",
     "iopub.status.idle": "2021-02-08T19:38:54.909502Z",
     "shell.execute_reply": "2021-02-08T19:38:54.909755Z"
    }
   },
   "outputs": [],
   "source": [
    "imaging_plotter = aplt.ImagingPlotter(\n",
    "    imaging=imaging, visuals_2d=aplt.Visuals2D(mask=mask)\n",
    ")\n",
    "imaging_plotter.subplot_imaging()"
   ]
  },
  {
   "cell_type": "markdown",
   "metadata": {},
   "source": [
    "__Settings__\n",
    "\n",
    "The `SettingsPhaseImaging` describe how the model is fitted to the data in the log likelihood function.\n",
    "\n",
    "These settings are used and described throughout the `autolens_workspace/notebooks/imaging/modeling` example scripts, with a \n",
    "complete description of all settings given in `autolens_workspace/notebooks/imaging/modeling/customize/settings.py`.\n",
    "\n",
    "The settings chosen here are applied to all phases in the pipeline."
   ]
  },
  {
   "cell_type": "code",
   "execution_count": null,
   "metadata": {
    "execution": {
     "iopub.execute_input": "2021-02-08T19:38:54.912584Z",
     "iopub.status.busy": "2021-02-08T19:38:54.912244Z",
     "iopub.status.idle": "2021-02-08T19:38:54.914225Z",
     "shell.execute_reply": "2021-02-08T19:38:54.914480Z"
    }
   },
   "outputs": [],
   "source": [
    "settings_masked_imaging = al.SettingsMaskedImaging(grid_class=al.Grid2D, sub_size=2)"
   ]
  },
  {
   "cell_type": "markdown",
   "metadata": {},
   "source": [
    "`Inversion`'s may infer unphysical solution where the source reconstruction is a demagnified reconstruction of the \n",
    "lensed source (see **HowToLens** chapter 4). \n",
    "\n",
    "To prevent this, auto-positioning is used, which uses the lens mass model of earlier phases to automatically set \n",
    "positions and a threshold that resample inaccurate mass models (see `notebooks/imaging/modeling/positions.py`).\n",
    "\n",
    "The `auto_positions_factor` is a factor that the threshold of the inferred positions using the previous mass model are \n",
    "multiplied by to set the threshold in the next phase. The *auto_positions_minimum_threshold* is the minimum value this\n",
    "threshold can go to, even after multiplication."
   ]
  },
  {
   "cell_type": "code",
   "execution_count": null,
   "metadata": {
    "execution": {
     "iopub.execute_input": "2021-02-08T19:38:54.917082Z",
     "iopub.status.busy": "2021-02-08T19:38:54.916758Z",
     "iopub.status.idle": "2021-02-08T19:38:54.918498Z",
     "shell.execute_reply": "2021-02-08T19:38:54.918182Z"
    }
   },
   "outputs": [],
   "source": [
    "settings_lens = al.SettingsLens(\n",
    "    auto_positions_factor=3.0, auto_positions_minimum_threshold=0.8\n",
    ")\n",
    "\n",
    "settings = al.SettingsPhaseImaging(\n",
    "    settings_masked_imaging=settings_masked_imaging, settings_lens=settings_lens\n",
    ")"
   ]
  },
  {
   "cell_type": "markdown",
   "metadata": {},
   "source": [
    "__Pipeline_Setup__:\n",
    "\n",
    "Pipelines use `Setup` objects to customize how different aspects of the model are fitted. \n",
    "\n",
    "First, we create a `SetupMassTotal`, which customizes:\n",
    "\n",
    " - The `MassProfile` used to fit the lens's total mass distribution.\n",
    " - If there is an `ExternalShear` in the mass model or not."
   ]
  },
  {
   "cell_type": "code",
   "execution_count": null,
   "metadata": {
    "execution": {
     "iopub.execute_input": "2021-02-08T19:38:54.920953Z",
     "iopub.status.busy": "2021-02-08T19:38:54.920638Z",
     "iopub.status.idle": "2021-02-08T19:38:54.985692Z",
     "shell.execute_reply": "2021-02-08T19:38:54.985383Z"
    }
   },
   "outputs": [],
   "source": [
    "setup_mass = al.SetupMassTotal(\n",
    "    mass_prior_model=al.mp.EllipticalPowerLaw, with_shear=True\n",
    ")"
   ]
  },
  {
   "cell_type": "markdown",
   "metadata": {},
   "source": [
    "Next, we create a `SetupSourceInversion` which customizes:\n",
    "\n",
    " - The `Pixelization` used by the `Inversion` in phase 2 onwards in the pipeline.\n",
    " - The `Regularization` scheme used by the `Inversion` in phase 3 onwards in the pipeline."
   ]
  },
  {
   "cell_type": "code",
   "execution_count": null,
   "metadata": {
    "execution": {
     "iopub.execute_input": "2021-02-08T19:38:54.988184Z",
     "iopub.status.busy": "2021-02-08T19:38:54.987871Z",
     "iopub.status.idle": "2021-02-08T19:38:55.020059Z",
     "shell.execute_reply": "2021-02-08T19:38:55.020306Z"
    }
   },
   "outputs": [],
   "source": [
    "setup_source = al.SetupSourceInversion(\n",
    "    pixelization_prior_model=al.pix.VoronoiMagnification,\n",
    "    regularization_prior_model=al.reg.Constant,\n",
    ")"
   ]
  },
  {
   "cell_type": "markdown",
   "metadata": {},
   "source": [
    "_Pipeline Tagging_\n",
    "\n",
    "The `Setup` objects are input into a `SetupPipeline` object, which is passed into the pipeline and used to customize\n",
    "the analysis depending on the setup. This includes tagging the output path of a pipeline. For example, if `with_shear` \n",
    "is True, the pipeline`s output paths are `tagged` with the string `with_shear`.\n",
    "\n",
    "This means you can run the same pipeline on the same data twice (e.g. with and without shear) and the results will go\n",
    "to different output folders and thus not clash with one another!\n",
    "\n",
    "The `path_prefix` below specifies the path the pipeline results are written to, which is:\n",
    "\n",
    " `autolens_workspace/output/imaging/modeling/pipelines/no_lens_light/dataset_type/dataset_name` \n",
    " `autolens_workspace/output/imaging/modeling/pipelines/no_lens_light/mass_sie__source_sersic_x2`\n",
    " \n",
    "The redshift of the lens and source galaxies are also input (see `notebooks/imaging/modeling/customize/redshift.py`) for a \n",
    "description of what inputting redshifts into **PyAutoLens** does."
   ]
  },
  {
   "cell_type": "code",
   "execution_count": null,
   "metadata": {
    "execution": {
     "iopub.execute_input": "2021-02-08T19:38:55.023128Z",
     "iopub.status.busy": "2021-02-08T19:38:55.022805Z",
     "iopub.status.idle": "2021-02-08T19:38:55.024724Z",
     "shell.execute_reply": "2021-02-08T19:38:55.024400Z"
    }
   },
   "outputs": [],
   "source": [
    "setup = al.SetupPipeline(\n",
    "    path_prefix=path.join(\"imaging\", \"pipelines\", \"no_lens_light\", dataset_name),\n",
    "    redshift_lens=0.5,\n",
    "    redshift_source=1.0,\n",
    "    setup_mass=setup_mass,\n",
    "    setup_source=setup_source,\n",
    ")"
   ]
  },
  {
   "cell_type": "markdown",
   "metadata": {},
   "source": [
    "__Pipeline Creation__\n",
    "\n",
    "To create a pipeline we import it from the pipelines folder and run its `make_pipeline` function, inputting the \n",
    "`Setup` and `SettingsPhase` above."
   ]
  },
  {
   "cell_type": "code",
   "execution_count": null,
   "metadata": {
    "execution": {
     "iopub.execute_input": "2021-02-08T19:38:55.026890Z",
     "iopub.status.busy": "2021-02-08T19:38:55.026584Z",
     "iopub.status.idle": "2021-02-08T19:38:55.246981Z",
     "shell.execute_reply": "2021-02-08T19:38:55.247252Z"
    }
   },
   "outputs": [],
   "source": [
    "from pipelines import mass_total__source_inversion\n",
    "\n",
    "pipeline = mass_total__source_inversion.make_pipeline(setup=setup, settings=settings)"
   ]
  },
  {
   "cell_type": "markdown",
   "metadata": {},
   "source": [
    "__Pipeline Run__\n",
    "\n",
    "Running a pipeline is the same as running a phase, we simply pass it our lens dataset and mask to its run function."
   ]
  },
  {
   "cell_type": "code",
   "execution_count": null,
   "metadata": {
    "execution": {
     "iopub.execute_input": "2021-02-08T19:38:55.249800Z",
     "iopub.status.busy": "2021-02-08T19:38:55.249494Z",
     "iopub.status.idle": "2021-02-08T19:39:18.802376Z",
     "shell.execute_reply": "2021-02-08T19:39:18.802001Z"
    }
   },
   "outputs": [],
   "source": [
    "pipeline.run(dataset=imaging, mask=mask)"
   ]
  },
  {
   "cell_type": "markdown",
   "metadata": {},
   "source": [
    "Finish."
   ]
  }
 ],
 "metadata": {
  "anaconda-cloud": {},
  "kernelspec": {
   "display_name": "Python 3",
   "language": "python",
   "name": "python3"
  },
  "language_info": {
   "codemirror_mode": {
    "name": "ipython",
    "version": 3
   },
   "file_extension": ".py",
   "mimetype": "text/x-python",
   "name": "python",
   "nbconvert_exporter": "python",
   "pygments_lexer": "ipython3",
   "version": "3.8.5"
  }
 },
 "nbformat": 4,
 "nbformat_minor": 4
}
